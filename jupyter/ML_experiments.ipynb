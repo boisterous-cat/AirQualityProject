{
  "nbformat": 4,
  "nbformat_minor": 0,
  "metadata": {
    "colab": {
      "provenance": []
    },
    "kernelspec": {
      "name": "python3",
      "display_name": "Python 3"
    },
    "language_info": {
      "name": "python"
    }
  },
  "cells": [
    {
      "cell_type": "code",
      "execution_count": 32,
      "metadata": {
        "id": "WpoqQ1ktimhN"
      },
      "outputs": [],
      "source": [
        "import pandas as pd\n",
        "import numpy as np\n",
        "import seaborn as sns\n",
        "from google.colab import drive\n",
        "from matplotlib import pyplot as plt\n",
        "%matplotlib inline\n",
        "import matplotlib.pyplot as plt\n",
        "import seaborn as sns\n",
        "import warnings\n",
        "warnings.filterwarnings('ignore')\n",
        "\n",
        "from sklearn.preprocessing import LabelEncoder\n",
        "from sklearn.linear_model import LinearRegression\n",
        "from sklearn.ensemble import RandomForestRegressor\n",
        "from sklearn.model_selection import train_test_split, cross_val_score, KFold\n",
        "from sklearn.preprocessing import OneHotEncoder\n",
        "from sklearn.compose import ColumnTransformer\n",
        "from sklearn.pipeline import Pipeline\n",
        "from sklearn.linear_model import Ridge, Lasso\n",
        "from sklearn.metrics import mean_squared_error\n",
        "from sklearn.preprocessing import StandardScaler\n",
        "from sklearn.linear_model import LinearRegression\n",
        "from sklearn.metrics import r2_score, mean_squared_error as MSE\n",
        "from sklearn.model_selection import GridSearchCV\n",
        "from sklearn.linear_model import ElasticNet\n",
        "from sklearn.neighbors import KNeighborsRegressor"
      ]
    },
    {
      "cell_type": "code",
      "source": [
        "RANDOM_SEED = 42"
      ],
      "metadata": {
        "id": "WENfXo4ejEhZ"
      },
      "execution_count": 33,
      "outputs": []
    },
    {
      "cell_type": "code",
      "source": [
        "drive.mount('/content/drive')"
      ],
      "metadata": {
        "colab": {
          "base_uri": "https://localhost:8080/"
        },
        "id": "O0vokLQHiq-R",
        "outputId": "8b29a888-83d5-4965-9c68-f17052b8b695"
      },
      "execution_count": 34,
      "outputs": [
        {
          "output_type": "stream",
          "name": "stdout",
          "text": [
            "Drive already mounted at /content/drive; to attempt to forcibly remount, call drive.mount(\"/content/drive\", force_remount=True).\n"
          ]
        }
      ]
    },
    {
      "cell_type": "code",
      "source": [
        "data = pd.read_csv('/content/drive/MyDrive/Colab Notebooks/Проект/prep_data.csv')"
      ],
      "metadata": {
        "id": "JrgAHx6_itd9"
      },
      "execution_count": 35,
      "outputs": []
    },
    {
      "cell_type": "code",
      "source": [
        "data.dtypes"
      ],
      "metadata": {
        "colab": {
          "base_uri": "https://localhost:8080/"
        },
        "id": "pWw18fZJi7TN",
        "outputId": "f8c67955-1e49-410d-8177-68d2e2b85b76"
      },
      "execution_count": 36,
      "outputs": [
        {
          "output_type": "execute_result",
          "data": {
            "text/plain": [
              "Country                object\n",
              "City                   object\n",
              "AQI Value               int64\n",
              "AQI Category           object\n",
              "CO AQI Value            int64\n",
              "CO AQI Category        object\n",
              "Ozone AQI Value         int64\n",
              "Ozone AQI Category     object\n",
              "NO2 AQI Value           int64\n",
              "NO2 AQI Category       object\n",
              "PM2.5 AQI Value         int64\n",
              "PM2.5 AQI Category     object\n",
              "lat                   float64\n",
              "lng                   float64\n",
              "dtype: object"
            ]
          },
          "metadata": {},
          "execution_count": 36
        }
      ]
    },
    {
      "cell_type": "markdown",
      "source": [
        "Регрессия. Удалим колонки с координатами, так как они пока только для визуализации использовались."
      ],
      "metadata": {
        "id": "fxbUC8WFCniQ"
      }
    },
    {
      "cell_type": "code",
      "source": [
        "data.drop(['lat', 'lng'], axis=1, inplace=True)"
      ],
      "metadata": {
        "id": "m8cK6SfKCuab"
      },
      "execution_count": 37,
      "outputs": []
    },
    {
      "cell_type": "code",
      "source": [
        "data.dtypes"
      ],
      "metadata": {
        "colab": {
          "base_uri": "https://localhost:8080/"
        },
        "id": "AvTha9aRDHr-",
        "outputId": "494469c8-f645-40c1-9bcd-56c5ed12a8b0"
      },
      "execution_count": 38,
      "outputs": [
        {
          "output_type": "execute_result",
          "data": {
            "text/plain": [
              "Country               object\n",
              "City                  object\n",
              "AQI Value              int64\n",
              "AQI Category          object\n",
              "CO AQI Value           int64\n",
              "CO AQI Category       object\n",
              "Ozone AQI Value        int64\n",
              "Ozone AQI Category    object\n",
              "NO2 AQI Value          int64\n",
              "NO2 AQI Category      object\n",
              "PM2.5 AQI Value        int64\n",
              "PM2.5 AQI Category    object\n",
              "dtype: object"
            ]
          },
          "metadata": {},
          "execution_count": 38
        }
      ]
    },
    {
      "cell_type": "code",
      "source": [
        "data.drop(['City','Country'],axis=1,inplace=True)"
      ],
      "metadata": {
        "id": "fpiIq-OWDPwX"
      },
      "execution_count": 39,
      "outputs": []
    },
    {
      "cell_type": "code",
      "source": [
        "X=data.drop('AQI Value',axis=1)\n",
        "y=data['AQI Value']\n",
        "X_train,X_test,y_train,y_test=train_test_split(X, y, test_size=0.3,random_state=RANDOM_SEED)"
      ],
      "metadata": {
        "id": "BFbMqGveDx2i"
      },
      "execution_count": 40,
      "outputs": []
    },
    {
      "cell_type": "markdown",
      "source": [
        "Попробуем только на вещественных признаках."
      ],
      "metadata": {
        "id": "z7C-pS7hGRTT"
      }
    },
    {
      "cell_type": "code",
      "source": [
        "X_train_num = X_train.drop(['AQI Category','CO AQI Category', 'Ozone AQI Category','NO2 AQI Category','PM2.5 AQI Category'],axis=1)\n",
        "X_test_num = X_test.drop(['AQI Category','CO AQI Category', 'Ozone AQI Category','NO2 AQI Category','PM2.5 AQI Category'],axis=1)"
      ],
      "metadata": {
        "id": "6pDemqKjGZRP"
      },
      "execution_count": 41,
      "outputs": []
    },
    {
      "cell_type": "code",
      "source": [
        "linr = LinearRegression()\n",
        "\n",
        "linr.fit(X_train_num, y_train)\n",
        "\n",
        "y_pred_train = linr.predict(X_train_num)\n",
        "y_pred_test = linr.predict(X_test_num)\n",
        "linr_r2_train = r2_score(y_train, y_pred_train)\n",
        "linr_r2_test = r2_score(y_test, y_pred_test)\n",
        "\n",
        "print(f'R2 Train: {linr_r2_train}')\n",
        "print(f'R2 Test: {linr_r2_test}')"
      ],
      "metadata": {
        "colab": {
          "base_uri": "https://localhost:8080/"
        },
        "id": "A3c5L06MGApV",
        "outputId": "c844e521-e041-44af-c5c7-a326c0fdbc92"
      },
      "execution_count": 42,
      "outputs": [
        {
          "output_type": "stream",
          "name": "stdout",
          "text": [
            "R2 Train: 0.9740498707460614\n",
            "R2 Test: 0.972294629978387\n"
          ]
        }
      ]
    },
    {
      "cell_type": "code",
      "source": [
        "print(f'MSE Train: {MSE(y_train, y_pred_train)}')\n",
        "print(f'MSE Test: {MSE(y_test, y_pred_test)}')"
      ],
      "metadata": {
        "colab": {
          "base_uri": "https://localhost:8080/"
        },
        "id": "8z1wh7HyG5jE",
        "outputId": "4441ebe3-bbec-4ab7-87f5-6ad2ee14d71a"
      },
      "execution_count": 43,
      "outputs": [
        {
          "output_type": "stream",
          "name": "stdout",
          "text": [
            "MSE Train: 58.55182002906896\n",
            "MSE Test: 64.71311614108971\n"
          ]
        }
      ]
    },
    {
      "cell_type": "markdown",
      "source": [
        "Так как  у нас сразу присутствовала линейная зависимость, то получили вполне неплохой результат."
      ],
      "metadata": {
        "id": "JhopyXaFIAJC"
      }
    },
    {
      "cell_type": "markdown",
      "source": [
        "Стандартизируем фичи"
      ],
      "metadata": {
        "id": "9ogKBCbJG9Ll"
      }
    },
    {
      "cell_type": "code",
      "source": [
        "sc = StandardScaler()\n",
        "X_train_num_std = pd.DataFrame(sc.fit_transform(X_train_num), columns=X_train_num.columns)\n",
        "X_test_num_std = pd.DataFrame(sc.transform(X_test_num), columns=X_test_num.columns)"
      ],
      "metadata": {
        "id": "CExKSddnHGDa"
      },
      "execution_count": 44,
      "outputs": []
    },
    {
      "cell_type": "code",
      "source": [
        "linr_sc = LinearRegression()\n",
        "\n",
        "linr_sc.fit(X_train_num_std, y_train)\n",
        "\n",
        "y_pred_train_sc = linr_sc.predict(X_train_num_std)\n",
        "y_pred_test_sc = linr_sc.predict(X_test_num_std)\n",
        "linr_r2_train_sc = r2_score(y_train, y_pred_train_sc)\n",
        "linr_r2_test_sc = r2_score(y_test, y_pred_test_sc)\n",
        "\n",
        "print(f'R2 Train: {linr_r2_train_sc}')\n",
        "print(f'R2 Test: {linr_r2_test_sc}')\n",
        "print(f'MSE Train: {MSE(y_train, y_pred_train_sc)}')\n",
        "print(f'MSE Test: {MSE(y_test, y_pred_test_sc)}')"
      ],
      "metadata": {
        "colab": {
          "base_uri": "https://localhost:8080/"
        },
        "id": "E8Xipf40HkCn",
        "outputId": "17138149-75ad-4ebe-b937-8cbedb57b722"
      },
      "execution_count": 45,
      "outputs": [
        {
          "output_type": "stream",
          "name": "stdout",
          "text": [
            "R2 Train: 0.9740498707460614\n",
            "R2 Test: 0.972294629978387\n",
            "MSE Train: 58.55182002906897\n",
            "MSE Test: 64.71311614108974\n"
          ]
        }
      ]
    },
    {
      "cell_type": "markdown",
      "source": [
        "Стандартизация фич ни на сотую не изменила результат."
      ],
      "metadata": {
        "id": "C7fXWwivIGcn"
      }
    },
    {
      "cell_type": "code",
      "source": [
        "resLin = pd.DataFrame(linr_sc.coef_,index = X_train_num_std.columns,columns = ['coef'])\n",
        "\n",
        "resLin.sort_values('coef')"
      ],
      "metadata": {
        "colab": {
          "base_uri": "https://localhost:8080/",
          "height": 175
        },
        "id": "7U18AWJ7JESN",
        "outputId": "e2217fe2-a865-4f3d-fa05-7ce0d56d932b"
      },
      "execution_count": 46,
      "outputs": [
        {
          "output_type": "execute_result",
          "data": {
            "text/plain": [
              "                      coef\n",
              "NO2 AQI Value     0.381562\n",
              "CO AQI Value      0.496343\n",
              "Ozone AQI Value   5.438276\n",
              "PM2.5 AQI Value  44.032851"
            ],
            "text/html": [
              "\n",
              "  <div id=\"df-00ce9eef-2815-43a7-a004-9208c8a9fd7c\" class=\"colab-df-container\">\n",
              "    <div>\n",
              "<style scoped>\n",
              "    .dataframe tbody tr th:only-of-type {\n",
              "        vertical-align: middle;\n",
              "    }\n",
              "\n",
              "    .dataframe tbody tr th {\n",
              "        vertical-align: top;\n",
              "    }\n",
              "\n",
              "    .dataframe thead th {\n",
              "        text-align: right;\n",
              "    }\n",
              "</style>\n",
              "<table border=\"1\" class=\"dataframe\">\n",
              "  <thead>\n",
              "    <tr style=\"text-align: right;\">\n",
              "      <th></th>\n",
              "      <th>coef</th>\n",
              "    </tr>\n",
              "  </thead>\n",
              "  <tbody>\n",
              "    <tr>\n",
              "      <th>NO2 AQI Value</th>\n",
              "      <td>0.381562</td>\n",
              "    </tr>\n",
              "    <tr>\n",
              "      <th>CO AQI Value</th>\n",
              "      <td>0.496343</td>\n",
              "    </tr>\n",
              "    <tr>\n",
              "      <th>Ozone AQI Value</th>\n",
              "      <td>5.438276</td>\n",
              "    </tr>\n",
              "    <tr>\n",
              "      <th>PM2.5 AQI Value</th>\n",
              "      <td>44.032851</td>\n",
              "    </tr>\n",
              "  </tbody>\n",
              "</table>\n",
              "</div>\n",
              "    <div class=\"colab-df-buttons\">\n",
              "\n",
              "  <div class=\"colab-df-container\">\n",
              "    <button class=\"colab-df-convert\" onclick=\"convertToInteractive('df-00ce9eef-2815-43a7-a004-9208c8a9fd7c')\"\n",
              "            title=\"Convert this dataframe to an interactive table.\"\n",
              "            style=\"display:none;\">\n",
              "\n",
              "  <svg xmlns=\"http://www.w3.org/2000/svg\" height=\"24px\" viewBox=\"0 -960 960 960\">\n",
              "    <path d=\"M120-120v-720h720v720H120Zm60-500h600v-160H180v160Zm220 220h160v-160H400v160Zm0 220h160v-160H400v160ZM180-400h160v-160H180v160Zm440 0h160v-160H620v160ZM180-180h160v-160H180v160Zm440 0h160v-160H620v160Z\"/>\n",
              "  </svg>\n",
              "    </button>\n",
              "\n",
              "  <style>\n",
              "    .colab-df-container {\n",
              "      display:flex;\n",
              "      gap: 12px;\n",
              "    }\n",
              "\n",
              "    .colab-df-convert {\n",
              "      background-color: #E8F0FE;\n",
              "      border: none;\n",
              "      border-radius: 50%;\n",
              "      cursor: pointer;\n",
              "      display: none;\n",
              "      fill: #1967D2;\n",
              "      height: 32px;\n",
              "      padding: 0 0 0 0;\n",
              "      width: 32px;\n",
              "    }\n",
              "\n",
              "    .colab-df-convert:hover {\n",
              "      background-color: #E2EBFA;\n",
              "      box-shadow: 0px 1px 2px rgba(60, 64, 67, 0.3), 0px 1px 3px 1px rgba(60, 64, 67, 0.15);\n",
              "      fill: #174EA6;\n",
              "    }\n",
              "\n",
              "    .colab-df-buttons div {\n",
              "      margin-bottom: 4px;\n",
              "    }\n",
              "\n",
              "    [theme=dark] .colab-df-convert {\n",
              "      background-color: #3B4455;\n",
              "      fill: #D2E3FC;\n",
              "    }\n",
              "\n",
              "    [theme=dark] .colab-df-convert:hover {\n",
              "      background-color: #434B5C;\n",
              "      box-shadow: 0px 1px 3px 1px rgba(0, 0, 0, 0.15);\n",
              "      filter: drop-shadow(0px 1px 2px rgba(0, 0, 0, 0.3));\n",
              "      fill: #FFFFFF;\n",
              "    }\n",
              "  </style>\n",
              "\n",
              "    <script>\n",
              "      const buttonEl =\n",
              "        document.querySelector('#df-00ce9eef-2815-43a7-a004-9208c8a9fd7c button.colab-df-convert');\n",
              "      buttonEl.style.display =\n",
              "        google.colab.kernel.accessAllowed ? 'block' : 'none';\n",
              "\n",
              "      async function convertToInteractive(key) {\n",
              "        const element = document.querySelector('#df-00ce9eef-2815-43a7-a004-9208c8a9fd7c');\n",
              "        const dataTable =\n",
              "          await google.colab.kernel.invokeFunction('convertToInteractive',\n",
              "                                                    [key], {});\n",
              "        if (!dataTable) return;\n",
              "\n",
              "        const docLinkHtml = 'Like what you see? Visit the ' +\n",
              "          '<a target=\"_blank\" href=https://colab.research.google.com/notebooks/data_table.ipynb>data table notebook</a>'\n",
              "          + ' to learn more about interactive tables.';\n",
              "        element.innerHTML = '';\n",
              "        dataTable['output_type'] = 'display_data';\n",
              "        await google.colab.output.renderOutput(dataTable, element);\n",
              "        const docLink = document.createElement('div');\n",
              "        docLink.innerHTML = docLinkHtml;\n",
              "        element.appendChild(docLink);\n",
              "      }\n",
              "    </script>\n",
              "  </div>\n",
              "\n",
              "\n",
              "<div id=\"df-b399347b-5188-4e51-9194-de26150e6a4e\">\n",
              "  <button class=\"colab-df-quickchart\" onclick=\"quickchart('df-b399347b-5188-4e51-9194-de26150e6a4e')\"\n",
              "            title=\"Suggest charts\"\n",
              "            style=\"display:none;\">\n",
              "\n",
              "<svg xmlns=\"http://www.w3.org/2000/svg\" height=\"24px\"viewBox=\"0 0 24 24\"\n",
              "     width=\"24px\">\n",
              "    <g>\n",
              "        <path d=\"M19 3H5c-1.1 0-2 .9-2 2v14c0 1.1.9 2 2 2h14c1.1 0 2-.9 2-2V5c0-1.1-.9-2-2-2zM9 17H7v-7h2v7zm4 0h-2V7h2v10zm4 0h-2v-4h2v4z\"/>\n",
              "    </g>\n",
              "</svg>\n",
              "  </button>\n",
              "\n",
              "<style>\n",
              "  .colab-df-quickchart {\n",
              "      --bg-color: #E8F0FE;\n",
              "      --fill-color: #1967D2;\n",
              "      --hover-bg-color: #E2EBFA;\n",
              "      --hover-fill-color: #174EA6;\n",
              "      --disabled-fill-color: #AAA;\n",
              "      --disabled-bg-color: #DDD;\n",
              "  }\n",
              "\n",
              "  [theme=dark] .colab-df-quickchart {\n",
              "      --bg-color: #3B4455;\n",
              "      --fill-color: #D2E3FC;\n",
              "      --hover-bg-color: #434B5C;\n",
              "      --hover-fill-color: #FFFFFF;\n",
              "      --disabled-bg-color: #3B4455;\n",
              "      --disabled-fill-color: #666;\n",
              "  }\n",
              "\n",
              "  .colab-df-quickchart {\n",
              "    background-color: var(--bg-color);\n",
              "    border: none;\n",
              "    border-radius: 50%;\n",
              "    cursor: pointer;\n",
              "    display: none;\n",
              "    fill: var(--fill-color);\n",
              "    height: 32px;\n",
              "    padding: 0;\n",
              "    width: 32px;\n",
              "  }\n",
              "\n",
              "  .colab-df-quickchart:hover {\n",
              "    background-color: var(--hover-bg-color);\n",
              "    box-shadow: 0 1px 2px rgba(60, 64, 67, 0.3), 0 1px 3px 1px rgba(60, 64, 67, 0.15);\n",
              "    fill: var(--button-hover-fill-color);\n",
              "  }\n",
              "\n",
              "  .colab-df-quickchart-complete:disabled,\n",
              "  .colab-df-quickchart-complete:disabled:hover {\n",
              "    background-color: var(--disabled-bg-color);\n",
              "    fill: var(--disabled-fill-color);\n",
              "    box-shadow: none;\n",
              "  }\n",
              "\n",
              "  .colab-df-spinner {\n",
              "    border: 2px solid var(--fill-color);\n",
              "    border-color: transparent;\n",
              "    border-bottom-color: var(--fill-color);\n",
              "    animation:\n",
              "      spin 1s steps(1) infinite;\n",
              "  }\n",
              "\n",
              "  @keyframes spin {\n",
              "    0% {\n",
              "      border-color: transparent;\n",
              "      border-bottom-color: var(--fill-color);\n",
              "      border-left-color: var(--fill-color);\n",
              "    }\n",
              "    20% {\n",
              "      border-color: transparent;\n",
              "      border-left-color: var(--fill-color);\n",
              "      border-top-color: var(--fill-color);\n",
              "    }\n",
              "    30% {\n",
              "      border-color: transparent;\n",
              "      border-left-color: var(--fill-color);\n",
              "      border-top-color: var(--fill-color);\n",
              "      border-right-color: var(--fill-color);\n",
              "    }\n",
              "    40% {\n",
              "      border-color: transparent;\n",
              "      border-right-color: var(--fill-color);\n",
              "      border-top-color: var(--fill-color);\n",
              "    }\n",
              "    60% {\n",
              "      border-color: transparent;\n",
              "      border-right-color: var(--fill-color);\n",
              "    }\n",
              "    80% {\n",
              "      border-color: transparent;\n",
              "      border-right-color: var(--fill-color);\n",
              "      border-bottom-color: var(--fill-color);\n",
              "    }\n",
              "    90% {\n",
              "      border-color: transparent;\n",
              "      border-bottom-color: var(--fill-color);\n",
              "    }\n",
              "  }\n",
              "</style>\n",
              "\n",
              "  <script>\n",
              "    async function quickchart(key) {\n",
              "      const quickchartButtonEl =\n",
              "        document.querySelector('#' + key + ' button');\n",
              "      quickchartButtonEl.disabled = true;  // To prevent multiple clicks.\n",
              "      quickchartButtonEl.classList.add('colab-df-spinner');\n",
              "      try {\n",
              "        const charts = await google.colab.kernel.invokeFunction(\n",
              "            'suggestCharts', [key], {});\n",
              "      } catch (error) {\n",
              "        console.error('Error during call to suggestCharts:', error);\n",
              "      }\n",
              "      quickchartButtonEl.classList.remove('colab-df-spinner');\n",
              "      quickchartButtonEl.classList.add('colab-df-quickchart-complete');\n",
              "    }\n",
              "    (() => {\n",
              "      let quickchartButtonEl =\n",
              "        document.querySelector('#df-b399347b-5188-4e51-9194-de26150e6a4e button');\n",
              "      quickchartButtonEl.style.display =\n",
              "        google.colab.kernel.accessAllowed ? 'block' : 'none';\n",
              "    })();\n",
              "  </script>\n",
              "</div>\n",
              "    </div>\n",
              "  </div>\n"
            ],
            "application/vnd.google.colaboratory.intrinsic+json": {
              "type": "dataframe",
              "summary": "{\n  \"name\": \"resLin\",\n  \"rows\": 4,\n  \"fields\": [\n    {\n      \"column\": \"coef\",\n      \"properties\": {\n        \"dtype\": \"number\",\n        \"std\": 21.095833189834096,\n        \"min\": 0.381562199778287,\n        \"max\": 44.03285143286169,\n        \"num_unique_values\": 4,\n        \"samples\": [\n          0.4963427704478947,\n          44.03285143286169,\n          0.381562199778287\n        ],\n        \"semantic_type\": \"\",\n        \"description\": \"\"\n      }\n    }\n  ]\n}"
            }
          },
          "metadata": {},
          "execution_count": 46
        }
      ]
    },
    {
      "cell_type": "code",
      "source": [
        "lasso_num = Lasso()\n",
        "\n",
        "lasso_num.fit(X_train_num_std, y_train)\n",
        "\n",
        "y_pred_train_lasso = lasso_num.predict(X_train_num_std)\n",
        "y_pred_test_lasso = lasso_num.predict(X_test_num_std)\n",
        "lasso_num_train = r2_score(y_train, y_pred_train_lasso)\n",
        "lasso_num_test = r2_score(y_test, y_pred_test_lasso)\n",
        "\n",
        "print(f'R2 Train: {lasso_num_train}')\n",
        "print(f'R2 Test: {lasso_num_test}')\n",
        "print(f'MSE Train: {MSE(y_train, y_pred_train_lasso)}')\n",
        "print(f'MSE Test: {MSE(y_test, y_pred_test_lasso)}')"
      ],
      "metadata": {
        "colab": {
          "base_uri": "https://localhost:8080/"
        },
        "id": "Lj_mBDH6JQYD",
        "outputId": "b45b5804-79ed-455e-d3c8-be19077ad167"
      },
      "execution_count": 47,
      "outputs": [
        {
          "output_type": "stream",
          "name": "stdout",
          "text": [
            "R2 Train: 0.9732605760433954\n",
            "R2 Test: 0.9714278562474473\n",
            "MSE Train: 60.33272219445533\n",
            "MSE Test: 66.73769220972144\n"
          ]
        }
      ]
    },
    {
      "cell_type": "code",
      "source": [
        "res = pd.DataFrame(lasso_num.coef_,index = X_train_num_std.columns,columns = ['coef'])\n",
        "\n",
        "res.sort_values('coef')"
      ],
      "metadata": {
        "colab": {
          "base_uri": "https://localhost:8080/",
          "height": 175
        },
        "id": "T2hVqtsOKjby",
        "outputId": "bea745e2-b7a0-4428-ae38-213fede49d0a"
      },
      "execution_count": 48,
      "outputs": [
        {
          "output_type": "execute_result",
          "data": {
            "text/plain": [
              "                      coef\n",
              "NO2 AQI Value     0.000000\n",
              "CO AQI Value      0.091993\n",
              "Ozone AQI Value   4.608783\n",
              "PM2.5 AQI Value  43.695829"
            ],
            "text/html": [
              "\n",
              "  <div id=\"df-bf9de42d-6717-40c4-8386-a2da7a09964e\" class=\"colab-df-container\">\n",
              "    <div>\n",
              "<style scoped>\n",
              "    .dataframe tbody tr th:only-of-type {\n",
              "        vertical-align: middle;\n",
              "    }\n",
              "\n",
              "    .dataframe tbody tr th {\n",
              "        vertical-align: top;\n",
              "    }\n",
              "\n",
              "    .dataframe thead th {\n",
              "        text-align: right;\n",
              "    }\n",
              "</style>\n",
              "<table border=\"1\" class=\"dataframe\">\n",
              "  <thead>\n",
              "    <tr style=\"text-align: right;\">\n",
              "      <th></th>\n",
              "      <th>coef</th>\n",
              "    </tr>\n",
              "  </thead>\n",
              "  <tbody>\n",
              "    <tr>\n",
              "      <th>NO2 AQI Value</th>\n",
              "      <td>0.000000</td>\n",
              "    </tr>\n",
              "    <tr>\n",
              "      <th>CO AQI Value</th>\n",
              "      <td>0.091993</td>\n",
              "    </tr>\n",
              "    <tr>\n",
              "      <th>Ozone AQI Value</th>\n",
              "      <td>4.608783</td>\n",
              "    </tr>\n",
              "    <tr>\n",
              "      <th>PM2.5 AQI Value</th>\n",
              "      <td>43.695829</td>\n",
              "    </tr>\n",
              "  </tbody>\n",
              "</table>\n",
              "</div>\n",
              "    <div class=\"colab-df-buttons\">\n",
              "\n",
              "  <div class=\"colab-df-container\">\n",
              "    <button class=\"colab-df-convert\" onclick=\"convertToInteractive('df-bf9de42d-6717-40c4-8386-a2da7a09964e')\"\n",
              "            title=\"Convert this dataframe to an interactive table.\"\n",
              "            style=\"display:none;\">\n",
              "\n",
              "  <svg xmlns=\"http://www.w3.org/2000/svg\" height=\"24px\" viewBox=\"0 -960 960 960\">\n",
              "    <path d=\"M120-120v-720h720v720H120Zm60-500h600v-160H180v160Zm220 220h160v-160H400v160Zm0 220h160v-160H400v160ZM180-400h160v-160H180v160Zm440 0h160v-160H620v160ZM180-180h160v-160H180v160Zm440 0h160v-160H620v160Z\"/>\n",
              "  </svg>\n",
              "    </button>\n",
              "\n",
              "  <style>\n",
              "    .colab-df-container {\n",
              "      display:flex;\n",
              "      gap: 12px;\n",
              "    }\n",
              "\n",
              "    .colab-df-convert {\n",
              "      background-color: #E8F0FE;\n",
              "      border: none;\n",
              "      border-radius: 50%;\n",
              "      cursor: pointer;\n",
              "      display: none;\n",
              "      fill: #1967D2;\n",
              "      height: 32px;\n",
              "      padding: 0 0 0 0;\n",
              "      width: 32px;\n",
              "    }\n",
              "\n",
              "    .colab-df-convert:hover {\n",
              "      background-color: #E2EBFA;\n",
              "      box-shadow: 0px 1px 2px rgba(60, 64, 67, 0.3), 0px 1px 3px 1px rgba(60, 64, 67, 0.15);\n",
              "      fill: #174EA6;\n",
              "    }\n",
              "\n",
              "    .colab-df-buttons div {\n",
              "      margin-bottom: 4px;\n",
              "    }\n",
              "\n",
              "    [theme=dark] .colab-df-convert {\n",
              "      background-color: #3B4455;\n",
              "      fill: #D2E3FC;\n",
              "    }\n",
              "\n",
              "    [theme=dark] .colab-df-convert:hover {\n",
              "      background-color: #434B5C;\n",
              "      box-shadow: 0px 1px 3px 1px rgba(0, 0, 0, 0.15);\n",
              "      filter: drop-shadow(0px 1px 2px rgba(0, 0, 0, 0.3));\n",
              "      fill: #FFFFFF;\n",
              "    }\n",
              "  </style>\n",
              "\n",
              "    <script>\n",
              "      const buttonEl =\n",
              "        document.querySelector('#df-bf9de42d-6717-40c4-8386-a2da7a09964e button.colab-df-convert');\n",
              "      buttonEl.style.display =\n",
              "        google.colab.kernel.accessAllowed ? 'block' : 'none';\n",
              "\n",
              "      async function convertToInteractive(key) {\n",
              "        const element = document.querySelector('#df-bf9de42d-6717-40c4-8386-a2da7a09964e');\n",
              "        const dataTable =\n",
              "          await google.colab.kernel.invokeFunction('convertToInteractive',\n",
              "                                                    [key], {});\n",
              "        if (!dataTable) return;\n",
              "\n",
              "        const docLinkHtml = 'Like what you see? Visit the ' +\n",
              "          '<a target=\"_blank\" href=https://colab.research.google.com/notebooks/data_table.ipynb>data table notebook</a>'\n",
              "          + ' to learn more about interactive tables.';\n",
              "        element.innerHTML = '';\n",
              "        dataTable['output_type'] = 'display_data';\n",
              "        await google.colab.output.renderOutput(dataTable, element);\n",
              "        const docLink = document.createElement('div');\n",
              "        docLink.innerHTML = docLinkHtml;\n",
              "        element.appendChild(docLink);\n",
              "      }\n",
              "    </script>\n",
              "  </div>\n",
              "\n",
              "\n",
              "<div id=\"df-2063edee-b3c9-4f72-a5dd-d2cd378c5e87\">\n",
              "  <button class=\"colab-df-quickchart\" onclick=\"quickchart('df-2063edee-b3c9-4f72-a5dd-d2cd378c5e87')\"\n",
              "            title=\"Suggest charts\"\n",
              "            style=\"display:none;\">\n",
              "\n",
              "<svg xmlns=\"http://www.w3.org/2000/svg\" height=\"24px\"viewBox=\"0 0 24 24\"\n",
              "     width=\"24px\">\n",
              "    <g>\n",
              "        <path d=\"M19 3H5c-1.1 0-2 .9-2 2v14c0 1.1.9 2 2 2h14c1.1 0 2-.9 2-2V5c0-1.1-.9-2-2-2zM9 17H7v-7h2v7zm4 0h-2V7h2v10zm4 0h-2v-4h2v4z\"/>\n",
              "    </g>\n",
              "</svg>\n",
              "  </button>\n",
              "\n",
              "<style>\n",
              "  .colab-df-quickchart {\n",
              "      --bg-color: #E8F0FE;\n",
              "      --fill-color: #1967D2;\n",
              "      --hover-bg-color: #E2EBFA;\n",
              "      --hover-fill-color: #174EA6;\n",
              "      --disabled-fill-color: #AAA;\n",
              "      --disabled-bg-color: #DDD;\n",
              "  }\n",
              "\n",
              "  [theme=dark] .colab-df-quickchart {\n",
              "      --bg-color: #3B4455;\n",
              "      --fill-color: #D2E3FC;\n",
              "      --hover-bg-color: #434B5C;\n",
              "      --hover-fill-color: #FFFFFF;\n",
              "      --disabled-bg-color: #3B4455;\n",
              "      --disabled-fill-color: #666;\n",
              "  }\n",
              "\n",
              "  .colab-df-quickchart {\n",
              "    background-color: var(--bg-color);\n",
              "    border: none;\n",
              "    border-radius: 50%;\n",
              "    cursor: pointer;\n",
              "    display: none;\n",
              "    fill: var(--fill-color);\n",
              "    height: 32px;\n",
              "    padding: 0;\n",
              "    width: 32px;\n",
              "  }\n",
              "\n",
              "  .colab-df-quickchart:hover {\n",
              "    background-color: var(--hover-bg-color);\n",
              "    box-shadow: 0 1px 2px rgba(60, 64, 67, 0.3), 0 1px 3px 1px rgba(60, 64, 67, 0.15);\n",
              "    fill: var(--button-hover-fill-color);\n",
              "  }\n",
              "\n",
              "  .colab-df-quickchart-complete:disabled,\n",
              "  .colab-df-quickchart-complete:disabled:hover {\n",
              "    background-color: var(--disabled-bg-color);\n",
              "    fill: var(--disabled-fill-color);\n",
              "    box-shadow: none;\n",
              "  }\n",
              "\n",
              "  .colab-df-spinner {\n",
              "    border: 2px solid var(--fill-color);\n",
              "    border-color: transparent;\n",
              "    border-bottom-color: var(--fill-color);\n",
              "    animation:\n",
              "      spin 1s steps(1) infinite;\n",
              "  }\n",
              "\n",
              "  @keyframes spin {\n",
              "    0% {\n",
              "      border-color: transparent;\n",
              "      border-bottom-color: var(--fill-color);\n",
              "      border-left-color: var(--fill-color);\n",
              "    }\n",
              "    20% {\n",
              "      border-color: transparent;\n",
              "      border-left-color: var(--fill-color);\n",
              "      border-top-color: var(--fill-color);\n",
              "    }\n",
              "    30% {\n",
              "      border-color: transparent;\n",
              "      border-left-color: var(--fill-color);\n",
              "      border-top-color: var(--fill-color);\n",
              "      border-right-color: var(--fill-color);\n",
              "    }\n",
              "    40% {\n",
              "      border-color: transparent;\n",
              "      border-right-color: var(--fill-color);\n",
              "      border-top-color: var(--fill-color);\n",
              "    }\n",
              "    60% {\n",
              "      border-color: transparent;\n",
              "      border-right-color: var(--fill-color);\n",
              "    }\n",
              "    80% {\n",
              "      border-color: transparent;\n",
              "      border-right-color: var(--fill-color);\n",
              "      border-bottom-color: var(--fill-color);\n",
              "    }\n",
              "    90% {\n",
              "      border-color: transparent;\n",
              "      border-bottom-color: var(--fill-color);\n",
              "    }\n",
              "  }\n",
              "</style>\n",
              "\n",
              "  <script>\n",
              "    async function quickchart(key) {\n",
              "      const quickchartButtonEl =\n",
              "        document.querySelector('#' + key + ' button');\n",
              "      quickchartButtonEl.disabled = true;  // To prevent multiple clicks.\n",
              "      quickchartButtonEl.classList.add('colab-df-spinner');\n",
              "      try {\n",
              "        const charts = await google.colab.kernel.invokeFunction(\n",
              "            'suggestCharts', [key], {});\n",
              "      } catch (error) {\n",
              "        console.error('Error during call to suggestCharts:', error);\n",
              "      }\n",
              "      quickchartButtonEl.classList.remove('colab-df-spinner');\n",
              "      quickchartButtonEl.classList.add('colab-df-quickchart-complete');\n",
              "    }\n",
              "    (() => {\n",
              "      let quickchartButtonEl =\n",
              "        document.querySelector('#df-2063edee-b3c9-4f72-a5dd-d2cd378c5e87 button');\n",
              "      quickchartButtonEl.style.display =\n",
              "        google.colab.kernel.accessAllowed ? 'block' : 'none';\n",
              "    })();\n",
              "  </script>\n",
              "</div>\n",
              "    </div>\n",
              "  </div>\n"
            ],
            "application/vnd.google.colaboratory.intrinsic+json": {
              "type": "dataframe",
              "summary": "{\n  \"name\": \"res\",\n  \"rows\": 4,\n  \"fields\": [\n    {\n      \"column\": \"coef\",\n      \"properties\": {\n        \"dtype\": \"number\",\n        \"std\": 21.17401711528266,\n        \"min\": 0.0,\n        \"max\": 43.69582926593351,\n        \"num_unique_values\": 4,\n        \"samples\": [\n          0.09199270056827623,\n          43.69582926593351,\n          0.0\n        ],\n        \"semantic_type\": \"\",\n        \"description\": \"\"\n      }\n    }\n  ]\n}"
            }
          },
          "metadata": {},
          "execution_count": 48
        }
      ]
    },
    {
      "cell_type": "markdown",
      "source": [
        "Качество даже чуть уменьшилось на сотую. И при этом у нас занулился один признак. А CO тоже близко к нулю."
      ],
      "metadata": {
        "id": "C4OPEeiyJyWO"
      }
    },
    {
      "cell_type": "code",
      "source": [
        "param_grid = [\n",
        "        {'alpha': [.0004, .0005], 'l1_ratio': [.5, .8, 1]},\n",
        "]\n",
        "\n",
        "grid_search = GridSearchCV(ElasticNet(), param_grid, cv=10,\n",
        "                           scoring='neg_mean_squared_error',\n",
        "                               return_train_score=True)\n",
        "\n",
        "grid_search.fit(X_train_num_std, y_train)\n",
        "cvres = grid_search.cv_results_\n",
        "for mean_score, params in zip(cvres[\"mean_test_score\"], cvres[\"params\"]):\n",
        "    print(np.sqrt(-mean_score), params)"
      ],
      "metadata": {
        "colab": {
          "base_uri": "https://localhost:8080/"
        },
        "id": "621WxWYQLRMf",
        "outputId": "2ff853f2-e54c-4321-8e52-f8d9f0b63f60"
      },
      "execution_count": 49,
      "outputs": [
        {
          "output_type": "stream",
          "name": "stdout",
          "text": [
            "7.660741054987355 {'alpha': 0.0004, 'l1_ratio': 0.5}\n",
            "7.660723754582797 {'alpha': 0.0004, 'l1_ratio': 0.8}\n",
            "7.660715205571033 {'alpha': 0.0004, 'l1_ratio': 1}\n",
            "7.660750131283334 {'alpha': 0.0005, 'l1_ratio': 0.5}\n",
            "7.660726418580959 {'alpha': 0.0005, 'l1_ratio': 0.8}\n",
            "7.660715611564489 {'alpha': 0.0005, 'l1_ratio': 1}\n"
          ]
        }
      ]
    },
    {
      "cell_type": "code",
      "source": [
        "elastic=ElasticNet(alpha=0.0004, l1_ratio=0.1).fit(X_train_num_std,y_train)\n",
        "\n",
        "y_elastic_train = elastic.predict(X_train_num_std)\n",
        "y_elastic_test = elastic.predict(X_test_num_std)\n",
        "r2_elastic_train= r2_score(y_train, y_elastic_train)\n",
        "r2_elastic_test = r2_score(y_test, y_elastic_test)\n",
        "\n",
        "print(f'R2 Train: {r2_elastic_train}')\n",
        "print(f'R2 Test: {r2_elastic_test}')\n",
        "print(f'MSE Train: {MSE(y_train, y_elastic_train)}')\n",
        "print(f'MSE Test: {MSE(y_test, y_elastic_test)}')"
      ],
      "metadata": {
        "colab": {
          "base_uri": "https://localhost:8080/"
        },
        "id": "DjajkmkQLd-R",
        "outputId": "d9442c52-b333-4623-ae2b-45c7ee801b27"
      },
      "execution_count": 50,
      "outputs": [
        {
          "output_type": "stream",
          "name": "stdout",
          "text": [
            "R2 Train: 0.9740497034667678\n",
            "R2 Test: 0.9722843365724962\n",
            "MSE Train: 58.55219746484203\n",
            "MSE Test: 64.73715907465741\n"
          ]
        }
      ]
    },
    {
      "cell_type": "markdown",
      "source": [
        "Попробуем теперь ForestRegressor на нестандартизированных признаках"
      ],
      "metadata": {
        "id": "_njB30B6L_GQ"
      }
    },
    {
      "cell_type": "code",
      "source": [
        "regressor = RandomForestRegressor(n_estimators=100, max_depth=5)\n",
        "regressor.fit(X_train_num, y_train)\n",
        "y_rf_train = regressor.predict(X_train_num)\n",
        "y_rf_test = regressor.predict(X_test_num)\n",
        "r2_rf_train= r2_score(y_train, y_rf_train)\n",
        "r2_rf_test = r2_score(y_test, y_rf_test)\n",
        "\n",
        "print(f'R2 Train: {r2_rf_train}')\n",
        "print(f'R2 Test: {r2_rf_test}')\n",
        "print(f'MSE Train: {MSE(y_train, y_rf_train)}')\n",
        "print(f'MSE Test: {MSE(y_test, y_rf_test)}')"
      ],
      "metadata": {
        "colab": {
          "base_uri": "https://localhost:8080/"
        },
        "id": "raQRFJo7Ok_3",
        "outputId": "fea48c71-82e3-4bd7-eaf8-8a3b665f07b7"
      },
      "execution_count": 51,
      "outputs": [
        {
          "output_type": "stream",
          "name": "stdout",
          "text": [
            "R2 Train: 0.99294459704386\n",
            "R2 Test: 0.9918724664705567\n",
            "MSE Train: 15.919253429451487\n",
            "MSE Test: 18.983973894633486\n"
          ]
        }
      ]
    },
    {
      "cell_type": "markdown",
      "source": [
        "Определенно качество улучшилос. Квадрат отклонений (MSE) значительно уменьшился и в нашем случае это имеет значение, так как если отклонение от фактического зачение будет +-19, то мы можем остаться в категории. А вот если оно будет +-60 как в предыдущих шагах, то мыточно выйдем за рамки фактической категории."
      ],
      "metadata": {
        "id": "eTPV5xTBPByp"
      }
    },
    {
      "cell_type": "code",
      "source": [
        "knn = KNeighborsRegressor(n_neighbors=10)\n",
        "knn.fit(X_train_num, y_train)\n",
        "y_knn_train = knn.predict(X_train_num)\n",
        "y_knn_test = knn.predict(X_test_num)\n",
        "r2_knn_train= r2_score(y_train, y_knn_train)\n",
        "r2_knn_test = r2_score(y_test, y_knn_test)\n",
        "\n",
        "print(f'R2 Train: {r2_knn_train}')\n",
        "print(f'R2 Test: {r2_knn_test}')\n",
        "print(f'MSE Train: {MSE(y_train, y_knn_train)}')\n",
        "print(f'MSE Test: {MSE(y_test, y_knn_test)}')"
      ],
      "metadata": {
        "colab": {
          "base_uri": "https://localhost:8080/"
        },
        "id": "IL9wWS03P3mO",
        "outputId": "2d04170a-dc44-4e5c-c876-855b7becc77f"
      },
      "execution_count": 52,
      "outputs": [
        {
          "output_type": "stream",
          "name": "stdout",
          "text": [
            "R2 Train: 0.9987413940454297\n",
            "R2 Test: 0.9981107022081938\n",
            "MSE Train: 2.839818970394117\n",
            "MSE Test: 4.412947646282446\n"
          ]
        }
      ]
    },
    {
      "cell_type": "markdown",
      "source": [
        "Здесь показатели еще лучше, при том, что мы имеем предсказания только на вещественных признаках. Не вижу смысла добавлять категориальные."
      ],
      "metadata": {
        "id": "ZAQl_qdZQEIG"
      }
    },
    {
      "cell_type": "markdown",
      "source": [
        "Не смотря на то, что я последние модели обучала не на стандартизированных признаках, здесь я хочу посмотреть результат на них."
      ],
      "metadata": {
        "id": "77Gh03enRApW"
      }
    },
    {
      "cell_type": "code",
      "source": [
        "plt.figure(figsize=(10,5))\n",
        "plt.title('Результаты всех моделей')\n",
        "models = {\"Linear Regression\": LinearRegression(), \"Ridge\": Ridge(alpha=0.1),\"Lasso\": Lasso(),\"ElasticNet\" :ElasticNet(alpha=0.0004, l1_ratio=0.1), \"Random Forest\": RandomForestRegressor(n_estimators=100, max_depth=5),'KNN': KNeighborsRegressor(n_neighbors=10)}\n",
        "outcome = []\n",
        "\n",
        "for model in models.values():\n",
        "    kf = KFold(n_splits=6,random_state = 42,shuffle = True)\n",
        "    cv_result = cross_val_score(model,X_train_num_std,y_train,cv=kf)\n",
        "    outcome.append(cv_result)\n",
        "plt.boxplot(outcome,labels = models.keys())\n",
        "plt.show()"
      ],
      "metadata": {
        "colab": {
          "base_uri": "https://localhost:8080/",
          "height": 464
        },
        "id": "ax_zdqunQTzc",
        "outputId": "149b9662-bad7-476c-8a12-05880a4f812f"
      },
      "execution_count": 22,
      "outputs": [
        {
          "output_type": "display_data",
          "data": {
            "text/plain": [
              "<Figure size 1000x500 with 1 Axes>"
            ],
            "image/png": "[encoded data removed]"
          },
          "metadata": {}
        }
      ]
    },
    {
      "cell_type": "markdown",
      "source": [
        "Видим, что качество всех моделей достаточно высокое, но KNN дает превосходный результат."
      ],
      "metadata": {
        "id": "0qrlvT1rRoRW"
      }
    },
    {
      "cell_type": "code",
      "source": [
        "data.drop(['PM2.5 AQI Value'], axis=1, inplace=True)\n",
        "X=data.drop('AQI Value',axis=1)\n",
        "y=data['AQI Value']\n",
        "X_train,X_test,y_train,y_test=train_test_split(X, y, test_size=0.3,random_state=RANDOM_SEED)"
      ],
      "metadata": {
        "id": "i_8OfC_QolKf"
      },
      "execution_count": 23,
      "outputs": []
    },
    {
      "cell_type": "code",
      "source": [
        "X_train_num = X_train.drop(['AQI Category','CO AQI Category', 'Ozone AQI Category','NO2 AQI Category','PM2.5 AQI Category'],axis=1)\n",
        "X_test_num = X_test.drop(['AQI Category','CO AQI Category', 'Ozone AQI Category','NO2 AQI Category','PM2.5 AQI Category'],axis=1)"
      ],
      "metadata": {
        "id": "OhQzBKUbo33u"
      },
      "execution_count": 24,
      "outputs": []
    },
    {
      "cell_type": "code",
      "source": [
        "sc = StandardScaler()\n",
        "X_train_num_std = pd.DataFrame(sc.fit_transform(X_train_num), columns=X_train_num.columns)\n",
        "X_test_num_std = pd.DataFrame(sc.transform(X_test_num), columns=X_test_num.columns)"
      ],
      "metadata": {
        "id": "DfUpZv34o8yB"
      },
      "execution_count": 25,
      "outputs": []
    },
    {
      "cell_type": "code",
      "source": [
        "plt.figure(figsize=(10,5))\n",
        "plt.title('Результаты всех моделей')\n",
        "models = {\"Linear Regression\": LinearRegression(), \"Ridge\": Ridge(alpha=0.1),\"Lasso\": Lasso(),\"ElasticNet\" :ElasticNet(alpha=0.0004, l1_ratio=0.1), \"Random Forest\": RandomForestRegressor(n_estimators=100, max_depth=5),'KNN': KNeighborsRegressor(n_neighbors=10)}\n",
        "outcome = []\n",
        "\n",
        "for model in models.values():\n",
        "    kf = KFold(n_splits=6,random_state = 42,shuffle = True)\n",
        "    cv_result = cross_val_score(model,X_train_num_std,y_train,cv=kf)\n",
        "    outcome.append(cv_result)\n",
        "plt.boxplot(outcome,labels = models.keys())\n",
        "plt.show()"
      ],
      "metadata": {
        "colab": {
          "base_uri": "https://localhost:8080/",
          "height": 468
        },
        "id": "xalOpkmvo_RR",
        "outputId": "0d86bbfe-56aa-4913-bc7c-39492e994f36"
      },
      "execution_count": 26,
      "outputs": [
        {
          "output_type": "display_data",
          "data": {
            "text/plain": [
              "<Figure size 1000x500 with 1 Axes>"
            ],
            "image/png": "[encoded data removed]"
          },
          "metadata": {}
        }
      ]
    },
    {
      "cell_type": "code",
      "source": [
        "plt.figure(figsize=(10,5))\n",
        "plt.title('Результаты всех моделей')\n",
        "models = {\"Linear Regression\": LinearRegression(), \"Ridge\": Ridge(alpha=0.1),\"Lasso\": Lasso(),\"ElasticNet\" :ElasticNet(alpha=0.0004, l1_ratio=0.1), \"Random Forest\": RandomForestRegressor(n_estimators=100, max_depth=5),'KNN': KNeighborsRegressor(n_neighbors=10)}\n",
        "outcome = []\n",
        "\n",
        "for model in models.values():\n",
        "    kf = KFold(n_splits=6,random_state = 42,shuffle = True)\n",
        "    cv_result = cross_val_score(model,X_train_num_std,y_train,scoring='neg_mean_absolute_error', cv=kf)\n",
        "    outcome.append(cv_result)\n",
        "plt.boxplot(outcome,labels = models.keys())\n",
        "plt.show()"
      ],
      "metadata": {
        "colab": {
          "base_uri": "https://localhost:8080/",
          "height": 462
        },
        "id": "3suDGjKf0iJs",
        "outputId": "812a8df2-b690-4035-956b-7d76d6197c20"
      },
      "execution_count": 27,
      "outputs": [
        {
          "output_type": "display_data",
          "data": {
            "text/plain": [
              "<Figure size 1000x500 with 1 Axes>"
            ],
            "image/png": "[encoded data removed]"
          },
          "metadata": {}
        }
      ]
    },
    {
      "cell_type": "markdown",
      "source": [
        "\n",
        "\n",
        "---\n",
        "\n",
        "\n",
        "\n",
        "---\n",
        "\n",
        "\n",
        "\n",
        "---\n",
        "\n"
      ],
      "metadata": {
        "id": "VQq7IyIZDyVs"
      }
    },
    {
      "cell_type": "markdown",
      "source": [
        "Простейшая модель случайного леса - классификация категории индекса качества воздуха"
      ],
      "metadata": {
        "id": "RYBDQDBFkdce"
      }
    },
    {
      "cell_type": "code",
      "source": [
        "from sklearn.model_selection import train_test_split,cross_val_score\n",
        "from sklearn.pipeline import Pipeline\n",
        "from sklearn.preprocessing import StandardScaler,Normalizer\n",
        "from sklearn.tree import DecisionTreeClassifier\n",
        "from sklearn.ensemble import RandomForestClassifier\n",
        "from sklearn.metrics import classification_report,accuracy_score,confusion_matrix,ConfusionMatrixDisplay\n"
      ],
      "metadata": {
        "id": "L2UQOpo7mngW"
      },
      "execution_count": null,
      "outputs": []
    },
    {
      "cell_type": "code",
      "source": [
        "print('Num of countries: ',data['Country'].nunique())\n",
        "print('Num of cities: ',data['City'].nunique())\n"
      ],
      "metadata": {
        "colab": {
          "base_uri": "https://localhost:8080/"
        },
        "id": "9d11QiaroVGS",
        "outputId": "5b2cabab-a64d-4002-c081-68042262d564"
      },
      "execution_count": null,
      "outputs": [
        {
          "output_type": "stream",
          "name": "stdout",
          "text": [
            "Num of countries:  175\n",
            "Num of cities:  22459\n"
          ]
        }
      ]
    },
    {
      "cell_type": "markdown",
      "source": [
        "Количество городов слишком большое, чтобы их кодировать. Для предсказания классов воспользуемся пока просто числовыми значениями, для этого удалим страну и город"
      ],
      "metadata": {
        "id": "wu05nvYLoZfv"
      }
    },
    {
      "cell_type": "markdown",
      "source": [
        "еще удалим countryAverage чтобы не было утечки"
      ],
      "metadata": {
        "id": "UvS3a3ietzNK"
      }
    },
    {
      "cell_type": "code",
      "source": [
        "data.drop(['City','Country','countryAverage'],axis=1,inplace=True)"
      ],
      "metadata": {
        "id": "neGIt9GdopeL"
      },
      "execution_count": null,
      "outputs": []
    },
    {
      "cell_type": "code",
      "source": [
        "cat_cols = [col for col in data.columns.difference(['AQI Category']) if 'Category' in col]\n",
        "for col in cat_cols:\n",
        "  newCat = pd.get_dummies(data[col], prefix=col)\n",
        "  data = pd.concat([data,newCat],axis=1)\n",
        "  data.drop([col], axis=1, inplace=True)"
      ],
      "metadata": {
        "id": "gMq_GBZmrdMr"
      },
      "execution_count": null,
      "outputs": []
    },
    {
      "cell_type": "code",
      "source": [
        "data.head()"
      ],
      "metadata": {
        "colab": {
          "base_uri": "https://localhost:8080/",
          "height": 278
        },
        "id": "ejQ3dZOmrpXc",
        "outputId": "dfe0f6f2-695e-416b-eeb0-dbec64d06d6f"
      },
      "execution_count": null,
      "outputs": [
        {
          "output_type": "execute_result",
          "data": {
            "text/plain": [
              "   AQI Value AQI Category  CO AQI Value  Ozone AQI Value  NO2 AQI Value  \\\n",
              "0         51     Moderate             1               36              0   \n",
              "1         41         Good             1                5              1   \n",
              "2         66     Moderate             1               39              2   \n",
              "3         34         Good             1               34              0   \n",
              "4         22         Good             0               22              0   \n",
              "\n",
              "   PM2.5 AQI Value        lat         lng  CO AQI Category_Good  \\\n",
              "0               51  44.744400   44.203100                     1   \n",
              "1               41 -11.295918  -41.987157                     1   \n",
              "2               66  37.166700   15.183300                     1   \n",
              "3               20  53.016700   20.883300                     1   \n",
              "4                6 -17.592920 -149.606367                     1   \n",
              "\n",
              "   NO2 AQI Category_Good  NO2 AQI Category_Moderate  Ozone AQI Category_Good  \\\n",
              "0                      1                          0                        1   \n",
              "1                      1                          0                        1   \n",
              "2                      1                          0                        1   \n",
              "3                      1                          0                        1   \n",
              "4                      1                          0                        1   \n",
              "\n",
              "   Ozone AQI Category_Moderate  Ozone AQI Category_Unhealthy  \\\n",
              "0                            0                             0   \n",
              "1                            0                             0   \n",
              "2                            0                             0   \n",
              "3                            0                             0   \n",
              "4                            0                             0   \n",
              "\n",
              "   Ozone AQI Category_Unhealthy for Sensitive Groups  PM2.5 AQI Category_Good  \\\n",
              "0                                                  0                        0   \n",
              "1                                                  0                        1   \n",
              "2                                                  0                        0   \n",
              "3                                                  0                        1   \n",
              "4                                                  0                        1   \n",
              "\n",
              "   PM2.5 AQI Category_Moderate  PM2.5 AQI Category_Unhealthy  \\\n",
              "0                            1                             0   \n",
              "1                            0                             0   \n",
              "2                            1                             0   \n",
              "3                            0                             0   \n",
              "4                            0                             0   \n",
              "\n",
              "   PM2.5 AQI Category_Unhealthy for Sensitive Groups  \n",
              "0                                                  0  \n",
              "1                                                  0  \n",
              "2                                                  0  \n",
              "3                                                  0  \n",
              "4                                                  0  "
            ],
            "text/html": [
              "\n",
              "  <div id=\"df-1a7f6b31-e1e1-4d87-aac0-da8fdcfcef6b\" class=\"colab-df-container\">\n",
              "    <div>\n",
              "<style scoped>\n",
              "    .dataframe tbody tr th:only-of-type {\n",
              "        vertical-align: middle;\n",
              "    }\n",
              "\n",
              "    .dataframe tbody tr th {\n",
              "        vertical-align: top;\n",
              "    }\n",
              "\n",
              "    .dataframe thead th {\n",
              "        text-align: right;\n",
              "    }\n",
              "</style>\n",
              "<table border=\"1\" class=\"dataframe\">\n",
              "  <thead>\n",
              "    <tr style=\"text-align: right;\">\n",
              "      <th></th>\n",
              "      <th>AQI Value</th>\n",
              "      <th>AQI Category</th>\n",
              "      <th>CO AQI Value</th>\n",
              "      <th>Ozone AQI Value</th>\n",
              "      <th>NO2 AQI Value</th>\n",
              "      <th>PM2.5 AQI Value</th>\n",
              "      <th>lat</th>\n",
              "      <th>lng</th>\n",
              "      <th>CO AQI Category_Good</th>\n",
              "      <th>NO2 AQI Category_Good</th>\n",
              "      <th>NO2 AQI Category_Moderate</th>\n",
              "      <th>Ozone AQI Category_Good</th>\n",
              "      <th>Ozone AQI Category_Moderate</th>\n",
              "      <th>Ozone AQI Category_Unhealthy</th>\n",
              "      <th>Ozone AQI Category_Unhealthy for Sensitive Groups</th>\n",
              "      <th>PM2.5 AQI Category_Good</th>\n",
              "      <th>PM2.5 AQI Category_Moderate</th>\n",
              "      <th>PM2.5 AQI Category_Unhealthy</th>\n",
              "      <th>PM2.5 AQI Category_Unhealthy for Sensitive Groups</th>\n",
              "    </tr>\n",
              "  </thead>\n",
              "  <tbody>\n",
              "    <tr>\n",
              "      <th>0</th>\n",
              "      <td>51</td>\n",
              "      <td>Moderate</td>\n",
              "      <td>1</td>\n",
              "      <td>36</td>\n",
              "      <td>0</td>\n",
              "      <td>51</td>\n",
              "      <td>44.744400</td>\n",
              "      <td>44.203100</td>\n",
              "      <td>1</td>\n",
              "      <td>1</td>\n",
              "      <td>0</td>\n",
              "      <td>1</td>\n",
              "      <td>0</td>\n",
              "      <td>0</td>\n",
              "      <td>0</td>\n",
              "      <td>0</td>\n",
              "      <td>1</td>\n",
              "      <td>0</td>\n",
              "      <td>0</td>\n",
              "    </tr>\n",
              "    <tr>\n",
              "      <th>1</th>\n",
              "      <td>41</td>\n",
              "      <td>Good</td>\n",
              "      <td>1</td>\n",
              "      <td>5</td>\n",
              "      <td>1</td>\n",
              "      <td>41</td>\n",
              "      <td>-11.295918</td>\n",
              "      <td>-41.987157</td>\n",
              "      <td>1</td>\n",
              "      <td>1</td>\n",
              "      <td>0</td>\n",
              "      <td>1</td>\n",
              "      <td>0</td>\n",
              "      <td>0</td>\n",
              "      <td>0</td>\n",
              "      <td>1</td>\n",
              "      <td>0</td>\n",
              "      <td>0</td>\n",
              "      <td>0</td>\n",
              "    </tr>\n",
              "    <tr>\n",
              "      <th>2</th>\n",
              "      <td>66</td>\n",
              "      <td>Moderate</td>\n",
              "      <td>1</td>\n",
              "      <td>39</td>\n",
              "      <td>2</td>\n",
              "      <td>66</td>\n",
              "      <td>37.166700</td>\n",
              "      <td>15.183300</td>\n",
              "      <td>1</td>\n",
              "      <td>1</td>\n",
              "      <td>0</td>\n",
              "      <td>1</td>\n",
              "      <td>0</td>\n",
              "      <td>0</td>\n",
              "      <td>0</td>\n",
              "      <td>0</td>\n",
              "      <td>1</td>\n",
              "      <td>0</td>\n",
              "      <td>0</td>\n",
              "    </tr>\n",
              "    <tr>\n",
              "      <th>3</th>\n",
              "      <td>34</td>\n",
              "      <td>Good</td>\n",
              "      <td>1</td>\n",
              "      <td>34</td>\n",
              "      <td>0</td>\n",
              "      <td>20</td>\n",
              "      <td>53.016700</td>\n",
              "      <td>20.883300</td>\n",
              "      <td>1</td>\n",
              "      <td>1</td>\n",
              "      <td>0</td>\n",
              "      <td>1</td>\n",
              "      <td>0</td>\n",
              "      <td>0</td>\n",
              "      <td>0</td>\n",
              "      <td>1</td>\n",
              "      <td>0</td>\n",
              "      <td>0</td>\n",
              "      <td>0</td>\n",
              "    </tr>\n",
              "    <tr>\n",
              "      <th>4</th>\n",
              "      <td>22</td>\n",
              "      <td>Good</td>\n",
              "      <td>0</td>\n",
              "      <td>22</td>\n",
              "      <td>0</td>\n",
              "      <td>6</td>\n",
              "      <td>-17.592920</td>\n",
              "      <td>-149.606367</td>\n",
              "      <td>1</td>\n",
              "      <td>1</td>\n",
              "      <td>0</td>\n",
              "      <td>1</td>\n",
              "      <td>0</td>\n",
              "      <td>0</td>\n",
              "      <td>0</td>\n",
              "      <td>1</td>\n",
              "      <td>0</td>\n",
              "      <td>0</td>\n",
              "      <td>0</td>\n",
              "    </tr>\n",
              "  </tbody>\n",
              "</table>\n",
              "</div>\n",
              "    <div class=\"colab-df-buttons\">\n",
              "\n",
              "  <div class=\"colab-df-container\">\n",
              "    <button class=\"colab-df-convert\" onclick=\"convertToInteractive('df-1a7f6b31-e1e1-4d87-aac0-da8fdcfcef6b')\"\n",
              "            title=\"Convert this dataframe to an interactive table.\"\n",
              "            style=\"display:none;\">\n",
              "\n",
              "  <svg xmlns=\"http://www.w3.org/2000/svg\" height=\"24px\" viewBox=\"0 -960 960 960\">\n",
              "    <path d=\"M120-120v-720h720v720H120Zm60-500h600v-160H180v160Zm220 220h160v-160H400v160Zm0 220h160v-160H400v160ZM180-400h160v-160H180v160Zm440 0h160v-160H620v160ZM180-180h160v-160H180v160Zm440 0h160v-160H620v160Z\"/>\n",
              "  </svg>\n",
              "    </button>\n",
              "\n",
              "  <style>\n",
              "    .colab-df-container {\n",
              "      display:flex;\n",
              "      gap: 12px;\n",
              "    }\n",
              "\n",
              "    .colab-df-convert {\n",
              "      background-color: #E8F0FE;\n",
              "      border: none;\n",
              "      border-radius: 50%;\n",
              "      cursor: pointer;\n",
              "      display: none;\n",
              "      fill: #1967D2;\n",
              "      height: 32px;\n",
              "      padding: 0 0 0 0;\n",
              "      width: 32px;\n",
              "    }\n",
              "\n",
              "    .colab-df-convert:hover {\n",
              "      background-color: #E2EBFA;\n",
              "      box-shadow: 0px 1px 2px rgba(60, 64, 67, 0.3), 0px 1px 3px 1px rgba(60, 64, 67, 0.15);\n",
              "      fill: #174EA6;\n",
              "    }\n",
              "\n",
              "    .colab-df-buttons div {\n",
              "      margin-bottom: 4px;\n",
              "    }\n",
              "\n",
              "    [theme=dark] .colab-df-convert {\n",
              "      background-color: #3B4455;\n",
              "      fill: #D2E3FC;\n",
              "    }\n",
              "\n",
              "    [theme=dark] .colab-df-convert:hover {\n",
              "      background-color: #434B5C;\n",
              "      box-shadow: 0px 1px 3px 1px rgba(0, 0, 0, 0.15);\n",
              "      filter: drop-shadow(0px 1px 2px rgba(0, 0, 0, 0.3));\n",
              "      fill: #FFFFFF;\n",
              "    }\n",
              "  </style>\n",
              "\n",
              "    <script>\n",
              "      const buttonEl =\n",
              "        document.querySelector('#df-1a7f6b31-e1e1-4d87-aac0-da8fdcfcef6b button.colab-df-convert');\n",
              "      buttonEl.style.display =\n",
              "        google.colab.kernel.accessAllowed ? 'block' : 'none';\n",
              "\n",
              "      async function convertToInteractive(key) {\n",
              "        const element = document.querySelector('#df-1a7f6b31-e1e1-4d87-aac0-da8fdcfcef6b');\n",
              "        const dataTable =\n",
              "          await google.colab.kernel.invokeFunction('convertToInteractive',\n",
              "                                                    [key], {});\n",
              "        if (!dataTable) return;\n",
              "\n",
              "        const docLinkHtml = 'Like what you see? Visit the ' +\n",
              "          '<a target=\"_blank\" href=https://colab.research.google.com/notebooks/data_table.ipynb>data table notebook</a>'\n",
              "          + ' to learn more about interactive tables.';\n",
              "        element.innerHTML = '';\n",
              "        dataTable['output_type'] = 'display_data';\n",
              "        await google.colab.output.renderOutput(dataTable, element);\n",
              "        const docLink = document.createElement('div');\n",
              "        docLink.innerHTML = docLinkHtml;\n",
              "        element.appendChild(docLink);\n",
              "      }\n",
              "    </script>\n",
              "  </div>\n",
              "\n",
              "\n",
              "<div id=\"df-7c722b0e-4f82-4003-931e-b9ce6a4e1e8f\">\n",
              "  <button class=\"colab-df-quickchart\" onclick=\"quickchart('df-7c722b0e-4f82-4003-931e-b9ce6a4e1e8f')\"\n",
              "            title=\"Suggest charts\"\n",
              "            style=\"display:none;\">\n",
              "\n",
              "<svg xmlns=\"http://www.w3.org/2000/svg\" height=\"24px\"viewBox=\"0 0 24 24\"\n",
              "     width=\"24px\">\n",
              "    <g>\n",
              "        <path d=\"M19 3H5c-1.1 0-2 .9-2 2v14c0 1.1.9 2 2 2h14c1.1 0 2-.9 2-2V5c0-1.1-.9-2-2-2zM9 17H7v-7h2v7zm4 0h-2V7h2v10zm4 0h-2v-4h2v4z\"/>\n",
              "    </g>\n",
              "</svg>\n",
              "  </button>\n",
              "\n",
              "<style>\n",
              "  .colab-df-quickchart {\n",
              "      --bg-color: #E8F0FE;\n",
              "      --fill-color: #1967D2;\n",
              "      --hover-bg-color: #E2EBFA;\n",
              "      --hover-fill-color: #174EA6;\n",
              "      --disabled-fill-color: #AAA;\n",
              "      --disabled-bg-color: #DDD;\n",
              "  }\n",
              "\n",
              "  [theme=dark] .colab-df-quickchart {\n",
              "      --bg-color: #3B4455;\n",
              "      --fill-color: #D2E3FC;\n",
              "      --hover-bg-color: #434B5C;\n",
              "      --hover-fill-color: #FFFFFF;\n",
              "      --disabled-bg-color: #3B4455;\n",
              "      --disabled-fill-color: #666;\n",
              "  }\n",
              "\n",
              "  .colab-df-quickchart {\n",
              "    background-color: var(--bg-color);\n",
              "    border: none;\n",
              "    border-radius: 50%;\n",
              "    cursor: pointer;\n",
              "    display: none;\n",
              "    fill: var(--fill-color);\n",
              "    height: 32px;\n",
              "    padding: 0;\n",
              "    width: 32px;\n",
              "  }\n",
              "\n",
              "  .colab-df-quickchart:hover {\n",
              "    background-color: var(--hover-bg-color);\n",
              "    box-shadow: 0 1px 2px rgba(60, 64, 67, 0.3), 0 1px 3px 1px rgba(60, 64, 67, 0.15);\n",
              "    fill: var(--button-hover-fill-color);\n",
              "  }\n",
              "\n",
              "  .colab-df-quickchart-complete:disabled,\n",
              "  .colab-df-quickchart-complete:disabled:hover {\n",
              "    background-color: var(--disabled-bg-color);\n",
              "    fill: var(--disabled-fill-color);\n",
              "    box-shadow: none;\n",
              "  }\n",
              "\n",
              "  .colab-df-spinner {\n",
              "    border: 2px solid var(--fill-color);\n",
              "    border-color: transparent;\n",
              "    border-bottom-color: var(--fill-color);\n",
              "    animation:\n",
              "      spin 1s steps(1) infinite;\n",
              "  }\n",
              "\n",
              "  @keyframes spin {\n",
              "    0% {\n",
              "      border-color: transparent;\n",
              "      border-bottom-color: var(--fill-color);\n",
              "      border-left-color: var(--fill-color);\n",
              "    }\n",
              "    20% {\n",
              "      border-color: transparent;\n",
              "      border-left-color: var(--fill-color);\n",
              "      border-top-color: var(--fill-color);\n",
              "    }\n",
              "    30% {\n",
              "      border-color: transparent;\n",
              "      border-left-color: var(--fill-color);\n",
              "      border-top-color: var(--fill-color);\n",
              "      border-right-color: var(--fill-color);\n",
              "    }\n",
              "    40% {\n",
              "      border-color: transparent;\n",
              "      border-right-color: var(--fill-color);\n",
              "      border-top-color: var(--fill-color);\n",
              "    }\n",
              "    60% {\n",
              "      border-color: transparent;\n",
              "      border-right-color: var(--fill-color);\n",
              "    }\n",
              "    80% {\n",
              "      border-color: transparent;\n",
              "      border-right-color: var(--fill-color);\n",
              "      border-bottom-color: var(--fill-color);\n",
              "    }\n",
              "    90% {\n",
              "      border-color: transparent;\n",
              "      border-bottom-color: var(--fill-color);\n",
              "    }\n",
              "  }\n",
              "</style>\n",
              "\n",
              "  <script>\n",
              "    async function quickchart(key) {\n",
              "      const quickchartButtonEl =\n",
              "        document.querySelector('#' + key + ' button');\n",
              "      quickchartButtonEl.disabled = true;  // To prevent multiple clicks.\n",
              "      quickchartButtonEl.classList.add('colab-df-spinner');\n",
              "      try {\n",
              "        const charts = await google.colab.kernel.invokeFunction(\n",
              "            'suggestCharts', [key], {});\n",
              "      } catch (error) {\n",
              "        console.error('Error during call to suggestCharts:', error);\n",
              "      }\n",
              "      quickchartButtonEl.classList.remove('colab-df-spinner');\n",
              "      quickchartButtonEl.classList.add('colab-df-quickchart-complete');\n",
              "    }\n",
              "    (() => {\n",
              "      let quickchartButtonEl =\n",
              "        document.querySelector('#df-7c722b0e-4f82-4003-931e-b9ce6a4e1e8f button');\n",
              "      quickchartButtonEl.style.display =\n",
              "        google.colab.kernel.accessAllowed ? 'block' : 'none';\n",
              "    })();\n",
              "  </script>\n",
              "</div>\n",
              "    </div>\n",
              "  </div>\n"
            ]
          },
          "metadata": {},
          "execution_count": 10
        }
      ]
    },
    {
      "cell_type": "markdown",
      "source": [
        "Посмотрим на распределение категорий."
      ],
      "metadata": {
        "id": "VximcaAp5wlF"
      }
    },
    {
      "cell_type": "code",
      "source": [
        "sns.set_theme(style=\"darkgrid\")\n",
        "sns.countplot(y=\"AQI Category\", data=data, palette=\"flare\")\n",
        "plt.ylabel('AQI Category')\n",
        "plt.xlabel('Total')\n",
        "plt.show()"
      ],
      "metadata": {
        "colab": {
          "base_uri": "https://localhost:8080/",
          "height": 429
        },
        "id": "fT2DqwcQ50Dt",
        "outputId": "3594476b-ca42-4b31-ef1b-e4611ca563bf"
      },
      "execution_count": null,
      "outputs": [
        {
          "output_type": "display_data",
          "data": {
            "text/plain": [
              "<Figure size 640x480 with 1 Axes>"
            ],
            "image/png": "[encoded data removed]"
          },
          "metadata": {}
        }
      ]
    },
    {
      "cell_type": "markdown",
      "source": [
        "У нас определенно есть дисбаланс классов, попробуем сначала обучить просто модели, а потом используем технику [SMOTE](https://imbalanced-learn.org/stable/references/generated/imblearn.over_sampling.SMOTE.html#smote)"
      ],
      "metadata": {
        "id": "my4QJm-F7nw3"
      }
    },
    {
      "cell_type": "code",
      "source": [
        "X=data.drop('AQI Category',axis=1)\n",
        "y=data['AQI Category']\n",
        "X_train,X_test,y_train,y_test=train_test_split(X, y, test_size=0.3,random_state=RANDOM_SEED)"
      ],
      "metadata": {
        "id": "snjAvoAhm6Zu"
      },
      "execution_count": null,
      "outputs": []
    },
    {
      "cell_type": "markdown",
      "source": [
        "Словарь\\список для сохранения данных"
      ],
      "metadata": {
        "id": "9IT9F-fH8KUZ"
      }
    },
    {
      "cell_type": "code",
      "source": [
        "from sklearn.linear_model import LogisticRegression\n",
        "LRclassifier = LogisticRegression(solver='liblinear', max_iter=5000)\n",
        "LRclassifier.fit(X_train, y_train)\n",
        "\n",
        "y_pred = LRclassifier.predict(X_test)\n",
        "\n",
        "from sklearn.metrics import accuracy_score\n",
        "LRAcc = accuracy_score(y_pred,y_test)"
      ],
      "metadata": {
        "id": "JtOD2zZr9PGl"
      },
      "execution_count": null,
      "outputs": []
    },
    {
      "cell_type": "code",
      "source": [
        "from sklearn.metrics import classification_report\n",
        "\n",
        "# Standard Decision Tree\n",
        "dt_clf = DecisionTreeClassifier(random_state=42)\n",
        "dt_clf.fit(X_train, y_train)\n",
        "y_pred_dt = dt_clf.predict(X_test)\n",
        "DTC = accuracy_score(y_pred_dt,y_test)\n",
        "\n",
        "# Decision Tree with Gini Impurity\n",
        "dt_clf_gini = DecisionTreeClassifier(criterion='gini', random_state=42)\n",
        "dt_clf_gini.fit(X_train, y_train)\n",
        "y_pred_dt_gini = dt_clf_gini.predict(X_test)\n",
        "DTC_gini = accuracy_score(y_pred_dt_gini,y_test)\n",
        "\n",
        "# Decision Tree with Information Gain (Entropy)\n",
        "dt_clf_entropy = DecisionTreeClassifier(criterion='entropy', random_state=42)\n",
        "dt_clf_entropy.fit(X_train, y_train)\n",
        "y_pred_dt_entropy = dt_clf_entropy.predict(X_test)\n",
        "DTC_entropy = accuracy_score(y_pred_dt_entropy,y_test)\n"
      ],
      "metadata": {
        "id": "UAa4BbUf3ZfJ"
      },
      "execution_count": null,
      "outputs": []
    },
    {
      "cell_type": "code",
      "source": [
        "from sklearn.ensemble import RandomForestClassifier\n",
        "\n",
        "# Standard Random Forest\n",
        "rf_clf = RandomForestClassifier(random_state=42, n_estimators=10)\n",
        "rf_clf.fit(X_train, y_train)\n",
        "y_pred_rf = rf_clf.predict(X_test)\n",
        "RF_clf = accuracy_score(y_pred_rf,y_test)\n"
      ],
      "metadata": {
        "id": "0A_mH5kl329T"
      },
      "execution_count": null,
      "outputs": []
    },
    {
      "cell_type": "code",
      "source": [
        "from sklearn.svm import SVC\n",
        "\n",
        "# Standard SVM with Linear Kernel\n",
        "svm_linear = SVC(kernel='linear', C=1)\n",
        "svm_linear.fit(X_train, y_train)\n",
        "y_pred_svm_linear = svm_linear.predict(X_test)\n",
        "SVM_clf = accuracy_score(y_pred_svm_linear,y_test)\n",
        "\n",
        "# SVM with RBF Kernel\n",
        "svm_rbf = SVC(kernel='rbf', C=1, gamma=1)\n",
        "svm_rbf.fit(X_train, y_train)\n",
        "y_pred_svm_rbf = svm_rbf.predict(X_test)\n",
        "SVM_rbf = accuracy_score(y_pred_svm_rbf,y_test)\n",
        "\n",
        "# SVM with Polynomial Kernel\n",
        "svm_poly = SVC(kernel='poly', C=1, degree=3)\n",
        "svm_poly.fit(X_train, y_train)\n",
        "y_pred_svm_poly = svm_poly.predict(X_test)\n",
        "SVM_poly = accuracy_score(y_pred_svm_poly,y_test)\n"
      ],
      "metadata": {
        "id": "WFvwQabA3_tm"
      },
      "execution_count": null,
      "outputs": []
    },
    {
      "cell_type": "code",
      "source": [
        "from sklearn.neighbors import KNeighborsClassifier\n",
        "\n",
        "# Standard k-NN with k=3 and Euclidean distance\n",
        "knn_euclidean = KNeighborsClassifier(n_neighbors=3, metric='euclidean')\n",
        "knn_euclidean.fit(X_train, y_train)\n",
        "y_pred_knn_euclidean = knn_euclidean.predict(X_test)\n",
        "KNN_euclidean = accuracy_score(y_pred_knn_euclidean,y_test)\n",
        "\n",
        "# k-NN with k=3 and Manhattan distance\n",
        "knn_manhattan = KNeighborsClassifier(n_neighbors=3, metric='manhattan')\n",
        "knn_manhattan.fit(X_train, y_train)\n",
        "y_pred_knn_manhattan = knn_manhattan.predict(X_test)\n",
        "KNN_manhattan = accuracy_score(y_pred_knn_manhattan,y_test)"
      ],
      "metadata": {
        "id": "-ECJFNPr4IQD"
      },
      "execution_count": null,
      "outputs": []
    },
    {
      "cell_type": "code",
      "source": [
        "compare = pd.DataFrame({'Model': ['Logistic Regression',\n",
        "                                  'Standard Decision Tree','Decision Tree with Gini Impurity',\n",
        "                                  'Decision Tree with Information Gain (Entropy)',\n",
        "                                  'Standard Random Forest','Standard SVM with Linear Kernel',\n",
        "                                  'SVM with RBF Kernel','SVM with Polynomial Kernel',\n",
        "                                  'k-NN with k=3 and Euclidean distance', 'k-NN with k=3 and Manhattan distance'],\n",
        "                        'Accuracy': [LRAcc*100,\n",
        "                                     DTC*100,DTC_gini*100,DTC_entropy*100,\n",
        "                                     RF_clf*100, SVM_clf*100,SVM_rbf*100,SVM_poly*100,\n",
        "                                     KNN_euclidean*100, KNN_manhattan*100]})\n",
        "compare.sort_values(by='Accuracy', ascending=False)"
      ],
      "metadata": {
        "colab": {
          "base_uri": "https://localhost:8080/",
          "height": 363
        },
        "id": "LvhuvVnD8iiJ",
        "outputId": "8c41c605-4832-440d-936e-55bf6e60e014"
      },
      "execution_count": null,
      "outputs": [
        {
          "output_type": "execute_result",
          "data": {
            "text/plain": [
              "                                           Model    Accuracy\n",
              "0                            Logistic Regression  100.000000\n",
              "1                         Standard Decision Tree  100.000000\n",
              "2               Decision Tree with Gini Impurity  100.000000\n",
              "3  Decision Tree with Information Gain (Entropy)  100.000000\n",
              "5                Standard SVM with Linear Kernel  100.000000\n",
              "4                         Standard Random Forest   99.985159\n",
              "9           k-NN with k=3 and Manhattan distance   99.050163\n",
              "7                     SVM with Polynomial Kernel   98.070644\n",
              "8           k-NN with k=3 and Euclidean distance   97.803503\n",
              "6                            SVM with RBF Kernel   52.849510"
            ],
            "text/html": [
              "\n",
              "  <div id=\"df-025b9892-04af-4cf1-9079-467e98b4f930\" class=\"colab-df-container\">\n",
              "    <div>\n",
              "<style scoped>\n",
              "    .dataframe tbody tr th:only-of-type {\n",
              "        vertical-align: middle;\n",
              "    }\n",
              "\n",
              "    .dataframe tbody tr th {\n",
              "        vertical-align: top;\n",
              "    }\n",
              "\n",
              "    .dataframe thead th {\n",
              "        text-align: right;\n",
              "    }\n",
              "</style>\n",
              "<table border=\"1\" class=\"dataframe\">\n",
              "  <thead>\n",
              "    <tr style=\"text-align: right;\">\n",
              "      <th></th>\n",
              "      <th>Model</th>\n",
              "      <th>Accuracy</th>\n",
              "    </tr>\n",
              "  </thead>\n",
              "  <tbody>\n",
              "    <tr>\n",
              "      <th>0</th>\n",
              "      <td>Logistic Regression</td>\n",
              "      <td>100.000000</td>\n",
              "    </tr>\n",
              "    <tr>\n",
              "      <th>1</th>\n",
              "      <td>Standard Decision Tree</td>\n",
              "      <td>100.000000</td>\n",
              "    </tr>\n",
              "    <tr>\n",
              "      <th>2</th>\n",
              "      <td>Decision Tree with Gini Impurity</td>\n",
              "      <td>100.000000</td>\n",
              "    </tr>\n",
              "    <tr>\n",
              "      <th>3</th>\n",
              "      <td>Decision Tree with Information Gain (Entropy)</td>\n",
              "      <td>100.000000</td>\n",
              "    </tr>\n",
              "    <tr>\n",
              "      <th>5</th>\n",
              "      <td>Standard SVM with Linear Kernel</td>\n",
              "      <td>100.000000</td>\n",
              "    </tr>\n",
              "    <tr>\n",
              "      <th>4</th>\n",
              "      <td>Standard Random Forest</td>\n",
              "      <td>99.985159</td>\n",
              "    </tr>\n",
              "    <tr>\n",
              "      <th>9</th>\n",
              "      <td>k-NN with k=3 and Manhattan distance</td>\n",
              "      <td>99.050163</td>\n",
              "    </tr>\n",
              "    <tr>\n",
              "      <th>7</th>\n",
              "      <td>SVM with Polynomial Kernel</td>\n",
              "      <td>98.070644</td>\n",
              "    </tr>\n",
              "    <tr>\n",
              "      <th>8</th>\n",
              "      <td>k-NN with k=3 and Euclidean distance</td>\n",
              "      <td>97.803503</td>\n",
              "    </tr>\n",
              "    <tr>\n",
              "      <th>6</th>\n",
              "      <td>SVM with RBF Kernel</td>\n",
              "      <td>52.849510</td>\n",
              "    </tr>\n",
              "  </tbody>\n",
              "</table>\n",
              "</div>\n",
              "    <div class=\"colab-df-buttons\">\n",
              "\n",
              "  <div class=\"colab-df-container\">\n",
              "    <button class=\"colab-df-convert\" onclick=\"convertToInteractive('df-025b9892-04af-4cf1-9079-467e98b4f930')\"\n",
              "            title=\"Convert this dataframe to an interactive table.\"\n",
              "            style=\"display:none;\">\n",
              "\n",
              "  <svg xmlns=\"http://www.w3.org/2000/svg\" height=\"24px\" viewBox=\"0 -960 960 960\">\n",
              "    <path d=\"M120-120v-720h720v720H120Zm60-500h600v-160H180v160Zm220 220h160v-160H400v160Zm0 220h160v-160H400v160ZM180-400h160v-160H180v160Zm440 0h160v-160H620v160ZM180-180h160v-160H180v160Zm440 0h160v-160H620v160Z\"/>\n",
              "  </svg>\n",
              "    </button>\n",
              "\n",
              "  <style>\n",
              "    .colab-df-container {\n",
              "      display:flex;\n",
              "      gap: 12px;\n",
              "    }\n",
              "\n",
              "    .colab-df-convert {\n",
              "      background-color: #E8F0FE;\n",
              "      border: none;\n",
              "      border-radius: 50%;\n",
              "      cursor: pointer;\n",
              "      display: none;\n",
              "      fill: #1967D2;\n",
              "      height: 32px;\n",
              "      padding: 0 0 0 0;\n",
              "      width: 32px;\n",
              "    }\n",
              "\n",
              "    .colab-df-convert:hover {\n",
              "      background-color: #E2EBFA;\n",
              "      box-shadow: 0px 1px 2px rgba(60, 64, 67, 0.3), 0px 1px 3px 1px rgba(60, 64, 67, 0.15);\n",
              "      fill: #174EA6;\n",
              "    }\n",
              "\n",
              "    .colab-df-buttons div {\n",
              "      margin-bottom: 4px;\n",
              "    }\n",
              "\n",
              "    [theme=dark] .colab-df-convert {\n",
              "      background-color: #3B4455;\n",
              "      fill: #D2E3FC;\n",
              "    }\n",
              "\n",
              "    [theme=dark] .colab-df-convert:hover {\n",
              "      background-color: #434B5C;\n",
              "      box-shadow: 0px 1px 3px 1px rgba(0, 0, 0, 0.15);\n",
              "      filter: drop-shadow(0px 1px 2px rgba(0, 0, 0, 0.3));\n",
              "      fill: #FFFFFF;\n",
              "    }\n",
              "  </style>\n",
              "\n",
              "    <script>\n",
              "      const buttonEl =\n",
              "        document.querySelector('#df-025b9892-04af-4cf1-9079-467e98b4f930 button.colab-df-convert');\n",
              "      buttonEl.style.display =\n",
              "        google.colab.kernel.accessAllowed ? 'block' : 'none';\n",
              "\n",
              "      async function convertToInteractive(key) {\n",
              "        const element = document.querySelector('#df-025b9892-04af-4cf1-9079-467e98b4f930');\n",
              "        const dataTable =\n",
              "          await google.colab.kernel.invokeFunction('convertToInteractive',\n",
              "                                                    [key], {});\n",
              "        if (!dataTable) return;\n",
              "\n",
              "        const docLinkHtml = 'Like what you see? Visit the ' +\n",
              "          '<a target=\"_blank\" href=https://colab.research.google.com/notebooks/data_table.ipynb>data table notebook</a>'\n",
              "          + ' to learn more about interactive tables.';\n",
              "        element.innerHTML = '';\n",
              "        dataTable['output_type'] = 'display_data';\n",
              "        await google.colab.output.renderOutput(dataTable, element);\n",
              "        const docLink = document.createElement('div');\n",
              "        docLink.innerHTML = docLinkHtml;\n",
              "        element.appendChild(docLink);\n",
              "      }\n",
              "    </script>\n",
              "  </div>\n",
              "\n",
              "\n",
              "<div id=\"df-e259818c-51b6-4dc3-bd70-770ee87d80b0\">\n",
              "  <button class=\"colab-df-quickchart\" onclick=\"quickchart('df-e259818c-51b6-4dc3-bd70-770ee87d80b0')\"\n",
              "            title=\"Suggest charts\"\n",
              "            style=\"display:none;\">\n",
              "\n",
              "<svg xmlns=\"http://www.w3.org/2000/svg\" height=\"24px\"viewBox=\"0 0 24 24\"\n",
              "     width=\"24px\">\n",
              "    <g>\n",
              "        <path d=\"M19 3H5c-1.1 0-2 .9-2 2v14c0 1.1.9 2 2 2h14c1.1 0 2-.9 2-2V5c0-1.1-.9-2-2-2zM9 17H7v-7h2v7zm4 0h-2V7h2v10zm4 0h-2v-4h2v4z\"/>\n",
              "    </g>\n",
              "</svg>\n",
              "  </button>\n",
              "\n",
              "<style>\n",
              "  .colab-df-quickchart {\n",
              "      --bg-color: #E8F0FE;\n",
              "      --fill-color: #1967D2;\n",
              "      --hover-bg-color: #E2EBFA;\n",
              "      --hover-fill-color: #174EA6;\n",
              "      --disabled-fill-color: #AAA;\n",
              "      --disabled-bg-color: #DDD;\n",
              "  }\n",
              "\n",
              "  [theme=dark] .colab-df-quickchart {\n",
              "      --bg-color: #3B4455;\n",
              "      --fill-color: #D2E3FC;\n",
              "      --hover-bg-color: #434B5C;\n",
              "      --hover-fill-color: #FFFFFF;\n",
              "      --disabled-bg-color: #3B4455;\n",
              "      --disabled-fill-color: #666;\n",
              "  }\n",
              "\n",
              "  .colab-df-quickchart {\n",
              "    background-color: var(--bg-color);\n",
              "    border: none;\n",
              "    border-radius: 50%;\n",
              "    cursor: pointer;\n",
              "    display: none;\n",
              "    fill: var(--fill-color);\n",
              "    height: 32px;\n",
              "    padding: 0;\n",
              "    width: 32px;\n",
              "  }\n",
              "\n",
              "  .colab-df-quickchart:hover {\n",
              "    background-color: var(--hover-bg-color);\n",
              "    box-shadow: 0 1px 2px rgba(60, 64, 67, 0.3), 0 1px 3px 1px rgba(60, 64, 67, 0.15);\n",
              "    fill: var(--button-hover-fill-color);\n",
              "  }\n",
              "\n",
              "  .colab-df-quickchart-complete:disabled,\n",
              "  .colab-df-quickchart-complete:disabled:hover {\n",
              "    background-color: var(--disabled-bg-color);\n",
              "    fill: var(--disabled-fill-color);\n",
              "    box-shadow: none;\n",
              "  }\n",
              "\n",
              "  .colab-df-spinner {\n",
              "    border: 2px solid var(--fill-color);\n",
              "    border-color: transparent;\n",
              "    border-bottom-color: var(--fill-color);\n",
              "    animation:\n",
              "      spin 1s steps(1) infinite;\n",
              "  }\n",
              "\n",
              "  @keyframes spin {\n",
              "    0% {\n",
              "      border-color: transparent;\n",
              "      border-bottom-color: var(--fill-color);\n",
              "      border-left-color: var(--fill-color);\n",
              "    }\n",
              "    20% {\n",
              "      border-color: transparent;\n",
              "      border-left-color: var(--fill-color);\n",
              "      border-top-color: var(--fill-color);\n",
              "    }\n",
              "    30% {\n",
              "      border-color: transparent;\n",
              "      border-left-color: var(--fill-color);\n",
              "      border-top-color: var(--fill-color);\n",
              "      border-right-color: var(--fill-color);\n",
              "    }\n",
              "    40% {\n",
              "      border-color: transparent;\n",
              "      border-right-color: var(--fill-color);\n",
              "      border-top-color: var(--fill-color);\n",
              "    }\n",
              "    60% {\n",
              "      border-color: transparent;\n",
              "      border-right-color: var(--fill-color);\n",
              "    }\n",
              "    80% {\n",
              "      border-color: transparent;\n",
              "      border-right-color: var(--fill-color);\n",
              "      border-bottom-color: var(--fill-color);\n",
              "    }\n",
              "    90% {\n",
              "      border-color: transparent;\n",
              "      border-bottom-color: var(--fill-color);\n",
              "    }\n",
              "  }\n",
              "</style>\n",
              "\n",
              "  <script>\n",
              "    async function quickchart(key) {\n",
              "      const quickchartButtonEl =\n",
              "        document.querySelector('#' + key + ' button');\n",
              "      quickchartButtonEl.disabled = true;  // To prevent multiple clicks.\n",
              "      quickchartButtonEl.classList.add('colab-df-spinner');\n",
              "      try {\n",
              "        const charts = await google.colab.kernel.invokeFunction(\n",
              "            'suggestCharts', [key], {});\n",
              "      } catch (error) {\n",
              "        console.error('Error during call to suggestCharts:', error);\n",
              "      }\n",
              "      quickchartButtonEl.classList.remove('colab-df-spinner');\n",
              "      quickchartButtonEl.classList.add('colab-df-quickchart-complete');\n",
              "    }\n",
              "    (() => {\n",
              "      let quickchartButtonEl =\n",
              "        document.querySelector('#df-e259818c-51b6-4dc3-bd70-770ee87d80b0 button');\n",
              "      quickchartButtonEl.style.display =\n",
              "        google.colab.kernel.accessAllowed ? 'block' : 'none';\n",
              "    })();\n",
              "  </script>\n",
              "</div>\n",
              "    </div>\n",
              "  </div>\n"
            ]
          },
          "metadata": {},
          "execution_count": 18
        }
      ]
    },
    {
      "cell_type": "markdown",
      "source": [
        "Интересно как измениться результат после работы с дисбалансом классов."
      ],
      "metadata": {
        "id": "RzoqpS0UAesU"
      }
    },
    {
      "cell_type": "code",
      "source": [
        "from imblearn.over_sampling import SMOTE\n",
        "X_train, y_train = SMOTE().fit_resample(X_train, y_train)"
      ],
      "metadata": {
        "id": "KJgPeyQtAo5Z"
      },
      "execution_count": null,
      "outputs": []
    },
    {
      "cell_type": "code",
      "source": [
        "sns.set_theme(style=\"darkgrid\")\n",
        "sns.countplot(y=y_train, data=data, palette=\"mako_r\")\n",
        "plt.ylabel('AQI Category')\n",
        "plt.xlabel('Total')\n",
        "plt.show()"
      ],
      "metadata": {
        "colab": {
          "base_uri": "https://localhost:8080/",
          "height": 432
        },
        "id": "CnDEjTy0Ar09",
        "outputId": "7e939d72-8bea-4cb4-e5d7-edadfb8b88c4"
      },
      "execution_count": null,
      "outputs": [
        {
          "output_type": "display_data",
          "data": {
            "text/plain": [
              "<Figure size 640x480 with 1 Axes>"
            ],
            "image/png": "[encoded data removed]"
          },
          "metadata": {}
        }
      ]
    },
    {
      "cell_type": "code",
      "source": [
        "LRclassifier2 = LogisticRegression(solver='liblinear', max_iter=5000)\n",
        "LRclassifier2.fit(X_train, y_train)\n",
        "y_pred2 = LRclassifier2.predict(X_test)\n",
        "LRAcc2 = accuracy_score(y_pred2,y_test)\n",
        "\n",
        "# Standard Decision Tree\n",
        "dt_clf2 = DecisionTreeClassifier(random_state=42)\n",
        "dt_clf2.fit(X_train, y_train)\n",
        "y_pred_dt2 = dt_clf2.predict(X_test)\n",
        "DTC2 = accuracy_score(y_pred_dt2,y_test)\n",
        "\n",
        "# Decision Tree with Gini Impurity\n",
        "dt_clf_gini2 = DecisionTreeClassifier(criterion='gini', random_state=42)\n",
        "dt_clf_gini2.fit(X_train, y_train)\n",
        "y_pred_dt_gini2 = dt_clf_gini2.predict(X_test)\n",
        "DTC_gini2 = accuracy_score(y_pred_dt_gini2,y_test)\n",
        "\n",
        "# Decision Tree with Information Gain (Entropy)\n",
        "dt_clf_entropy2 = DecisionTreeClassifier(criterion='entropy', random_state=42)\n",
        "dt_clf_entropy2.fit(X_train, y_train)\n",
        "y_pred_dt_entropy2 = dt_clf_entropy2.predict(X_test)\n",
        "DTC_entropy2 = accuracy_score(y_pred_dt_entropy2,y_test)\n",
        "\n",
        "# Standard Random Forest\n",
        "rf_clf2 = RandomForestClassifier(random_state=42, n_estimators=10)\n",
        "rf_clf2.fit(X_train, y_train)\n",
        "y_pred_rf2 = rf_clf2.predict(X_test)\n",
        "RF_clf2 = accuracy_score(y_pred_rf2,y_test)\n",
        "\n",
        "# Standard SVM with Linear Kernel\n",
        "svm_linear2 = SVC(kernel='linear', C=1)\n",
        "svm_linear2.fit(X_train, y_train)\n",
        "y_pred_svm_linear2 = svm_linear2.predict(X_test)\n",
        "SVM_clf2 = accuracy_score(y_pred_svm_linear2,y_test)\n",
        "\n",
        "# SVM with RBF Kernel\n",
        "svm_rbf2 = SVC(kernel='rbf', C=1, gamma=1)\n",
        "svm_rbf2.fit(X_train, y_train)\n",
        "y_pred_svm_rbf2 = svm_rbf2.predict(X_test)\n",
        "SVM_rbf2 = accuracy_score(y_pred_svm_rbf2,y_test)\n",
        "\n",
        "# SVM with Polynomial Kernel\n",
        "svm_poly2 = SVC(kernel='poly', C=1, degree=3)\n",
        "svm_poly2.fit(X_train, y_train)\n",
        "y_pred_svm_poly2 = svm_poly2.predict(X_test)\n",
        "SVM_poly2 = accuracy_score(y_pred_svm_poly2,y_test)\n",
        "\n",
        "# Standard k-NN with k=3 and Euclidean distance\n",
        "knn_euclidean2 = KNeighborsClassifier(n_neighbors=3, metric='euclidean')\n",
        "knn_euclidean2.fit(X_train, y_train)\n",
        "y_pred_knn_euclidean2 = knn_euclidean2.predict(X_test)\n",
        "KNN_euclidean2 = accuracy_score(y_pred_knn_euclidean2,y_test)\n",
        "\n",
        "# k-NN with k=3 and Manhattan distance\n",
        "knn_manhattan2 = KNeighborsClassifier(n_neighbors=3, metric='manhattan')\n",
        "knn_manhattan2.fit(X_train, y_train)\n",
        "y_pred_knn_manhattan2 = knn_manhattan2.predict(X_test)\n",
        "KNN_manhattan2 = accuracy_score(y_pred_knn_manhattan2,y_test)"
      ],
      "metadata": {
        "id": "k7vpI3xjA0db"
      },
      "execution_count": null,
      "outputs": []
    },
    {
      "cell_type": "code",
      "source": [
        "compare = pd.DataFrame({'Model': ['Logistic Regression',\n",
        "                                  'Standard Decision Tree','Decision Tree with Gini Impurity',\n",
        "                                  'Decision Tree with Information Gain (Entropy)',\n",
        "                                  'Standard Random Forest','Standard SVM with Linear Kernel',\n",
        "                                  'SVM with RBF Kernel','SVM with Polynomial Kernel',\n",
        "                                  'k-NN with k=3 and Euclidean distance', 'k-NN with k=3 and Manhattan distance'],\n",
        "                        'Accuracy': [LRAcc*100,\n",
        "                                     DTC*100,DTC_gini*100,DTC_entropy*100,\n",
        "                                     RF_clf*100, SVM_clf*100,SVM_rbf*100,SVM_poly*100,\n",
        "                                     KNN_euclidean*100, KNN_manhattan*100],\n",
        "                        'Balanced Classes Accuracy': [LRAcc2*100,\n",
        "                                     DTC2*100,DTC_gini2*100,DTC_entropy2*100,\n",
        "                                     RF_clf2*100, SVM_clf2*100,SVM_rbf2*100,SVM_poly2*100,\n",
        "                                     KNN_euclidean2*100, KNN_manhattan2*100]})\n",
        "compare.sort_values(by='Accuracy', ascending=False)"
      ],
      "metadata": {
        "colab": {
          "base_uri": "https://localhost:8080/",
          "height": 363
        },
        "id": "gEN2Kl3VBHqh",
        "outputId": "2142250b-1478-448f-dca6-389f57d3cedd"
      },
      "execution_count": null,
      "outputs": [
        {
          "output_type": "execute_result",
          "data": {
            "text/plain": [
              "                                           Model    Accuracy  \\\n",
              "0                            Logistic Regression  100.000000   \n",
              "1                         Standard Decision Tree  100.000000   \n",
              "2               Decision Tree with Gini Impurity  100.000000   \n",
              "3  Decision Tree with Information Gain (Entropy)  100.000000   \n",
              "5                Standard SVM with Linear Kernel  100.000000   \n",
              "4                         Standard Random Forest   99.985159   \n",
              "9           k-NN with k=3 and Manhattan distance   99.050163   \n",
              "7                     SVM with Polynomial Kernel   98.070644   \n",
              "8           k-NN with k=3 and Euclidean distance   97.803503   \n",
              "6                            SVM with RBF Kernel   52.849510   \n",
              "\n",
              "   Balanced Classes Accuracy  \n",
              "0                 100.000000  \n",
              "1                 100.000000  \n",
              "2                 100.000000  \n",
              "3                 100.000000  \n",
              "5                 100.000000  \n",
              "4                  99.985159  \n",
              "9                  98.916592  \n",
              "7                  96.794301  \n",
              "8                  97.744138  \n",
              "6                  66.681508  "
            ],
            "text/html": [
              "\n",
              "  <div id=\"df-929f88c0-fe19-460b-9788-d781aaea62a8\" class=\"colab-df-container\">\n",
              "    <div>\n",
              "<style scoped>\n",
              "    .dataframe tbody tr th:only-of-type {\n",
              "        vertical-align: middle;\n",
              "    }\n",
              "\n",
              "    .dataframe tbody tr th {\n",
              "        vertical-align: top;\n",
              "    }\n",
              "\n",
              "    .dataframe thead th {\n",
              "        text-align: right;\n",
              "    }\n",
              "</style>\n",
              "<table border=\"1\" class=\"dataframe\">\n",
              "  <thead>\n",
              "    <tr style=\"text-align: right;\">\n",
              "      <th></th>\n",
              "      <th>Model</th>\n",
              "      <th>Accuracy</th>\n",
              "      <th>Balanced Classes Accuracy</th>\n",
              "    </tr>\n",
              "  </thead>\n",
              "  <tbody>\n",
              "    <tr>\n",
              "      <th>0</th>\n",
              "      <td>Logistic Regression</td>\n",
              "      <td>100.000000</td>\n",
              "      <td>100.000000</td>\n",
              "    </tr>\n",
              "    <tr>\n",
              "      <th>1</th>\n",
              "      <td>Standard Decision Tree</td>\n",
              "      <td>100.000000</td>\n",
              "      <td>100.000000</td>\n",
              "    </tr>\n",
              "    <tr>\n",
              "      <th>2</th>\n",
              "      <td>Decision Tree with Gini Impurity</td>\n",
              "      <td>100.000000</td>\n",
              "      <td>100.000000</td>\n",
              "    </tr>\n",
              "    <tr>\n",
              "      <th>3</th>\n",
              "      <td>Decision Tree with Information Gain (Entropy)</td>\n",
              "      <td>100.000000</td>\n",
              "      <td>100.000000</td>\n",
              "    </tr>\n",
              "    <tr>\n",
              "      <th>5</th>\n",
              "      <td>Standard SVM with Linear Kernel</td>\n",
              "      <td>100.000000</td>\n",
              "      <td>100.000000</td>\n",
              "    </tr>\n",
              "    <tr>\n",
              "      <th>4</th>\n",
              "      <td>Standard Random Forest</td>\n",
              "      <td>99.985159</td>\n",
              "      <td>99.985159</td>\n",
              "    </tr>\n",
              "    <tr>\n",
              "      <th>9</th>\n",
              "      <td>k-NN with k=3 and Manhattan distance</td>\n",
              "      <td>99.050163</td>\n",
              "      <td>98.916592</td>\n",
              "    </tr>\n",
              "    <tr>\n",
              "      <th>7</th>\n",
              "      <td>SVM with Polynomial Kernel</td>\n",
              "      <td>98.070644</td>\n",
              "      <td>96.794301</td>\n",
              "    </tr>\n",
              "    <tr>\n",
              "      <th>8</th>\n",
              "      <td>k-NN with k=3 and Euclidean distance</td>\n",
              "      <td>97.803503</td>\n",
              "      <td>97.744138</td>\n",
              "    </tr>\n",
              "    <tr>\n",
              "      <th>6</th>\n",
              "      <td>SVM with RBF Kernel</td>\n",
              "      <td>52.849510</td>\n",
              "      <td>66.681508</td>\n",
              "    </tr>\n",
              "  </tbody>\n",
              "</table>\n",
              "</div>\n",
              "    <div class=\"colab-df-buttons\">\n",
              "\n",
              "  <div class=\"colab-df-container\">\n",
              "    <button class=\"colab-df-convert\" onclick=\"convertToInteractive('df-929f88c0-fe19-460b-9788-d781aaea62a8')\"\n",
              "            title=\"Convert this dataframe to an interactive table.\"\n",
              "            style=\"display:none;\">\n",
              "\n",
              "  <svg xmlns=\"http://www.w3.org/2000/svg\" height=\"24px\" viewBox=\"0 -960 960 960\">\n",
              "    <path d=\"M120-120v-720h720v720H120Zm60-500h600v-160H180v160Zm220 220h160v-160H400v160Zm0 220h160v-160H400v160ZM180-400h160v-160H180v160Zm440 0h160v-160H620v160ZM180-180h160v-160H180v160Zm440 0h160v-160H620v160Z\"/>\n",
              "  </svg>\n",
              "    </button>\n",
              "\n",
              "  <style>\n",
              "    .colab-df-container {\n",
              "      display:flex;\n",
              "      gap: 12px;\n",
              "    }\n",
              "\n",
              "    .colab-df-convert {\n",
              "      background-color: #E8F0FE;\n",
              "      border: none;\n",
              "      border-radius: 50%;\n",
              "      cursor: pointer;\n",
              "      display: none;\n",
              "      fill: #1967D2;\n",
              "      height: 32px;\n",
              "      padding: 0 0 0 0;\n",
              "      width: 32px;\n",
              "    }\n",
              "\n",
              "    .colab-df-convert:hover {\n",
              "      background-color: #E2EBFA;\n",
              "      box-shadow: 0px 1px 2px rgba(60, 64, 67, 0.3), 0px 1px 3px 1px rgba(60, 64, 67, 0.15);\n",
              "      fill: #174EA6;\n",
              "    }\n",
              "\n",
              "    .colab-df-buttons div {\n",
              "      margin-bottom: 4px;\n",
              "    }\n",
              "\n",
              "    [theme=dark] .colab-df-convert {\n",
              "      background-color: #3B4455;\n",
              "      fill: #D2E3FC;\n",
              "    }\n",
              "\n",
              "    [theme=dark] .colab-df-convert:hover {\n",
              "      background-color: #434B5C;\n",
              "      box-shadow: 0px 1px 3px 1px rgba(0, 0, 0, 0.15);\n",
              "      filter: drop-shadow(0px 1px 2px rgba(0, 0, 0, 0.3));\n",
              "      fill: #FFFFFF;\n",
              "    }\n",
              "  </style>\n",
              "\n",
              "    <script>\n",
              "      const buttonEl =\n",
              "        document.querySelector('#df-929f88c0-fe19-460b-9788-d781aaea62a8 button.colab-df-convert');\n",
              "      buttonEl.style.display =\n",
              "        google.colab.kernel.accessAllowed ? 'block' : 'none';\n",
              "\n",
              "      async function convertToInteractive(key) {\n",
              "        const element = document.querySelector('#df-929f88c0-fe19-460b-9788-d781aaea62a8');\n",
              "        const dataTable =\n",
              "          await google.colab.kernel.invokeFunction('convertToInteractive',\n",
              "                                                    [key], {});\n",
              "        if (!dataTable) return;\n",
              "\n",
              "        const docLinkHtml = 'Like what you see? Visit the ' +\n",
              "          '<a target=\"_blank\" href=https://colab.research.google.com/notebooks/data_table.ipynb>data table notebook</a>'\n",
              "          + ' to learn more about interactive tables.';\n",
              "        element.innerHTML = '';\n",
              "        dataTable['output_type'] = 'display_data';\n",
              "        await google.colab.output.renderOutput(dataTable, element);\n",
              "        const docLink = document.createElement('div');\n",
              "        docLink.innerHTML = docLinkHtml;\n",
              "        element.appendChild(docLink);\n",
              "      }\n",
              "    </script>\n",
              "  </div>\n",
              "\n",
              "\n",
              "<div id=\"df-4b9cefda-b1f1-4ae7-b775-a2ab0e3fcf40\">\n",
              "  <button class=\"colab-df-quickchart\" onclick=\"quickchart('df-4b9cefda-b1f1-4ae7-b775-a2ab0e3fcf40')\"\n",
              "            title=\"Suggest charts\"\n",
              "            style=\"display:none;\">\n",
              "\n",
              "<svg xmlns=\"http://www.w3.org/2000/svg\" height=\"24px\"viewBox=\"0 0 24 24\"\n",
              "     width=\"24px\">\n",
              "    <g>\n",
              "        <path d=\"M19 3H5c-1.1 0-2 .9-2 2v14c0 1.1.9 2 2 2h14c1.1 0 2-.9 2-2V5c0-1.1-.9-2-2-2zM9 17H7v-7h2v7zm4 0h-2V7h2v10zm4 0h-2v-4h2v4z\"/>\n",
              "    </g>\n",
              "</svg>\n",
              "  </button>\n",
              "\n",
              "<style>\n",
              "  .colab-df-quickchart {\n",
              "      --bg-color: #E8F0FE;\n",
              "      --fill-color: #1967D2;\n",
              "      --hover-bg-color: #E2EBFA;\n",
              "      --hover-fill-color: #174EA6;\n",
              "      --disabled-fill-color: #AAA;\n",
              "      --disabled-bg-color: #DDD;\n",
              "  }\n",
              "\n",
              "  [theme=dark] .colab-df-quickchart {\n",
              "      --bg-color: #3B4455;\n",
              "      --fill-color: #D2E3FC;\n",
              "      --hover-bg-color: #434B5C;\n",
              "      --hover-fill-color: #FFFFFF;\n",
              "      --disabled-bg-color: #3B4455;\n",
              "      --disabled-fill-color: #666;\n",
              "  }\n",
              "\n",
              "  .colab-df-quickchart {\n",
              "    background-color: var(--bg-color);\n",
              "    border: none;\n",
              "    border-radius: 50%;\n",
              "    cursor: pointer;\n",
              "    display: none;\n",
              "    fill: var(--fill-color);\n",
              "    height: 32px;\n",
              "    padding: 0;\n",
              "    width: 32px;\n",
              "  }\n",
              "\n",
              "  .colab-df-quickchart:hover {\n",
              "    background-color: var(--hover-bg-color);\n",
              "    box-shadow: 0 1px 2px rgba(60, 64, 67, 0.3), 0 1px 3px 1px rgba(60, 64, 67, 0.15);\n",
              "    fill: var(--button-hover-fill-color);\n",
              "  }\n",
              "\n",
              "  .colab-df-quickchart-complete:disabled,\n",
              "  .colab-df-quickchart-complete:disabled:hover {\n",
              "    background-color: var(--disabled-bg-color);\n",
              "    fill: var(--disabled-fill-color);\n",
              "    box-shadow: none;\n",
              "  }\n",
              "\n",
              "  .colab-df-spinner {\n",
              "    border: 2px solid var(--fill-color);\n",
              "    border-color: transparent;\n",
              "    border-bottom-color: var(--fill-color);\n",
              "    animation:\n",
              "      spin 1s steps(1) infinite;\n",
              "  }\n",
              "\n",
              "  @keyframes spin {\n",
              "    0% {\n",
              "      border-color: transparent;\n",
              "      border-bottom-color: var(--fill-color);\n",
              "      border-left-color: var(--fill-color);\n",
              "    }\n",
              "    20% {\n",
              "      border-color: transparent;\n",
              "      border-left-color: var(--fill-color);\n",
              "      border-top-color: var(--fill-color);\n",
              "    }\n",
              "    30% {\n",
              "      border-color: transparent;\n",
              "      border-left-color: var(--fill-color);\n",
              "      border-top-color: var(--fill-color);\n",
              "      border-right-color: var(--fill-color);\n",
              "    }\n",
              "    40% {\n",
              "      border-color: transparent;\n",
              "      border-right-color: var(--fill-color);\n",
              "      border-top-color: var(--fill-color);\n",
              "    }\n",
              "    60% {\n",
              "      border-color: transparent;\n",
              "      border-right-color: var(--fill-color);\n",
              "    }\n",
              "    80% {\n",
              "      border-color: transparent;\n",
              "      border-right-color: var(--fill-color);\n",
              "      border-bottom-color: var(--fill-color);\n",
              "    }\n",
              "    90% {\n",
              "      border-color: transparent;\n",
              "      border-bottom-color: var(--fill-color);\n",
              "    }\n",
              "  }\n",
              "</style>\n",
              "\n",
              "  <script>\n",
              "    async function quickchart(key) {\n",
              "      const quickchartButtonEl =\n",
              "        document.querySelector('#' + key + ' button');\n",
              "      quickchartButtonEl.disabled = true;  // To prevent multiple clicks.\n",
              "      quickchartButtonEl.classList.add('colab-df-spinner');\n",
              "      try {\n",
              "        const charts = await google.colab.kernel.invokeFunction(\n",
              "            'suggestCharts', [key], {});\n",
              "      } catch (error) {\n",
              "        console.error('Error during call to suggestCharts:', error);\n",
              "      }\n",
              "      quickchartButtonEl.classList.remove('colab-df-spinner');\n",
              "      quickchartButtonEl.classList.add('colab-df-quickchart-complete');\n",
              "    }\n",
              "    (() => {\n",
              "      let quickchartButtonEl =\n",
              "        document.querySelector('#df-4b9cefda-b1f1-4ae7-b775-a2ab0e3fcf40 button');\n",
              "      quickchartButtonEl.style.display =\n",
              "        google.colab.kernel.accessAllowed ? 'block' : 'none';\n",
              "    })();\n",
              "  </script>\n",
              "</div>\n",
              "    </div>\n",
              "  </div>\n"
            ]
          },
          "metadata": {},
          "execution_count": 22
        }
      ]
    },
    {
      "cell_type": "markdown",
      "source": [
        "По факту баланс классов улучшил только качество SVM с RBF (значительно улучшил), для остальных изменения близки к нулю или сотые."
      ],
      "metadata": {
        "id": "uHSP7R_dDU3y"
      }
    },
    {
      "cell_type": "markdown",
      "source": [
        "Сохраним модель - лог.рег."
      ],
      "metadata": {
        "id": "zsjHRr5w2NSe"
      }
    },
    {
      "cell_type": "code",
      "source": [
        "def plotConfusionMatrix(preds,classes):\n",
        "\n",
        "    #make confusion matrix display\n",
        "    cm=confusion_matrix(y_test,preds)\n",
        "    disp = ConfusionMatrixDisplay(confusion_matrix=cm,display_labels=classes)\n",
        "    fig =plt.figure(figsize=(20,8))\n",
        "    disp.plot()\n",
        "    plt.xticks(rotation = 75, ha = 'right')\n",
        "    plt.title('Confusion Matrix')\n",
        "\n",
        "\n",
        "pipeline = Pipeline([\n",
        "    ('classifier', LogisticRegression(solver='liblinear', max_iter=5000))\n",
        "    ])\n",
        "\n",
        "pipeline.fit(X_train,y_train)\n",
        "preds = pipeline.predict(X_test)\n",
        "\n",
        "plotConfusionMatrix(preds,pipeline.classes_)\n",
        "\n",
        "\n",
        "\n"
      ],
      "metadata": {
        "colab": {
          "base_uri": "https://localhost:8080/",
          "height": 709
        },
        "id": "o_WgGyv0nU8O",
        "outputId": "c3d8135e-b8b7-48fd-8bf3-ef916245f211"
      },
      "execution_count": null,
      "outputs": [
        {
          "output_type": "display_data",
          "data": {
            "text/plain": [
              "<Figure size 2000x800 with 0 Axes>"
            ]
          },
          "metadata": {}
        },
        {
          "output_type": "display_data",
          "data": {
            "text/plain": [
              "<Figure size 640x480 with 2 Axes>"
            ],
            "image/png": "[encoded data removed]"
          },
          "metadata": {}
        }
      ]
    },
    {
      "cell_type": "code",
      "source": [
        "import pickle\n",
        "import gzip\n",
        "pkl_filename = \"pickle_model.pkl\"\n",
        "\n",
        "with gzip.open(pkl_filename, 'wb') as f:\n",
        "    pickle.dump(pipeline, f)"
      ],
      "metadata": {
        "id": "yBCNvV3qvSES"
      },
      "execution_count": null,
      "outputs": []
    }
  ]
}